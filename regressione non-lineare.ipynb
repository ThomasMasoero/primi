{
 "cells": [
  {
   "cell_type": "code",
   "execution_count": 3,
   "metadata": {},
   "outputs": [
    {
     "data": {
      "text/html": [
       "<div>\n",
       "<style scoped>\n",
       "    .dataframe tbody tr th:only-of-type {\n",
       "        vertical-align: middle;\n",
       "    }\n",
       "\n",
       "    .dataframe tbody tr th {\n",
       "        vertical-align: top;\n",
       "    }\n",
       "\n",
       "    .dataframe thead th {\n",
       "        text-align: right;\n",
       "    }\n",
       "</style>\n",
       "<table border=\"1\" class=\"dataframe\">\n",
       "  <thead>\n",
       "    <tr style=\"text-align: right;\">\n",
       "      <th></th>\n",
       "      <th>s</th>\n",
       "      <th>v</th>\n",
       "      <th>i</th>\n",
       "    </tr>\n",
       "  </thead>\n",
       "  <tbody>\n",
       "    <tr>\n",
       "      <th>6</th>\n",
       "      <td>3.9</td>\n",
       "      <td>0.18</td>\n",
       "      <td>100</td>\n",
       "    </tr>\n",
       "    <tr>\n",
       "      <th>7</th>\n",
       "      <td>1.9</td>\n",
       "      <td>0.17</td>\n",
       "      <td>100</td>\n",
       "    </tr>\n",
       "    <tr>\n",
       "      <th>8</th>\n",
       "      <td>0.7</td>\n",
       "      <td>0.15</td>\n",
       "      <td>100</td>\n",
       "    </tr>\n",
       "    <tr>\n",
       "      <th>9</th>\n",
       "      <td>0.5</td>\n",
       "      <td>0.13</td>\n",
       "      <td>100</td>\n",
       "    </tr>\n",
       "    <tr>\n",
       "      <th>10</th>\n",
       "      <td>0.4</td>\n",
       "      <td>0.11</td>\n",
       "      <td>100</td>\n",
       "    </tr>\n",
       "    <tr>\n",
       "      <th>11</th>\n",
       "      <td>0.3</td>\n",
       "      <td>0.11</td>\n",
       "      <td>100</td>\n",
       "    </tr>\n",
       "  </tbody>\n",
       "</table>\n",
       "</div>"
      ],
      "text/plain": [
       "      s     v    i\n",
       "6   3.9  0.18  100\n",
       "7   1.9  0.17  100\n",
       "8   0.7  0.15  100\n",
       "9   0.5  0.13  100\n",
       "10  0.4  0.11  100\n",
       "11  0.3  0.11  100"
      ]
     },
     "execution_count": 3,
     "metadata": {},
     "output_type": "execute_result"
    }
   ],
   "source": [
    "import pandas as pd\n",
    "baseURL    = 'https://raw.githubusercontent.com/'\n",
    "user       = 'domenicozambella/'\n",
    "repository = 'BioTeIndu19/'\n",
    "branch     = 'master/'\n",
    "file       = 'dati/mm2.csv'\n",
    "df = pd.read_csv( baseURL + user + repository + branch + file )\n",
    "df\n",
    "mask = df['i'] == 100\n",
    "cento_df = df[mask]\n",
    "cento_df\n"
   ]
  },
  {
   "cell_type": "markdown",
   "metadata": {},
   "source": [
    "## Regressione non lineare\n",
    "\n",
    "\n",
    "La velocità di reazione $v$ dipende dalla concentrazione di substrato $s$ e dell'inibitore $i$ e da 4 parametri $V_\\textrm{max}$, $K_\\textrm{m}$, $\\delta$, $\\beta$ secondo la sequente equazione\n",
    "\n",
    "$$\n",
    "v\\ =\\ \\dfrac{V_\\textrm{max}s}{K_\\textrm{m} \\big(1+i\\cdot\\delta \\big)+s \\big(1+i\\cdot\\beta \\big) }\n",
    "$$\n",
    "\n",
    "Con un procedimento di interpolazione non lineare si stimino i valori di questi 3 parametri.\n",
    "\n",
    "Per semplicità trascrivo in Python la funzione qui sopra "
   ]
  },
  {
   "cell_type": "code",
   "execution_count": 22,
   "metadata": {},
   "outputs": [
    {
     "data": {
      "text/plain": [
       "(28, 3)"
      ]
     },
     "execution_count": 22,
     "metadata": {},
     "output_type": "execute_result"
    }
   ],
   "source": [
    "#new = df[['s', 'v', 'i']].copy()\n",
    "#new.shape"
   ]
  },
  {
   "cell_type": "code",
   "execution_count": 4,
   "metadata": {},
   "outputs": [],
   "source": [
    "from scipy.optimize import curve_fit\n",
    "def funz( x, Vmax, Km, delta, beta):\n",
    "    s,i = x\n",
    "    numeratore   = Vmax * s\n",
    "    denumeratore = Km * (1 + i*delta) + s * ( 1 + i*beta )\n",
    "    return numeratore / denumeratore"
   ]
  },
  {
   "cell_type": "code",
   "execution_count": null,
   "metadata": {},
   "outputs": [],
   "source": [
    "#pd.concat([df['s'], [df['v']],[df['i']], axis =1, keys=['df1', 'df2'])"
   ]
  },
  {
   "cell_type": "code",
   "execution_count": 5,
   "metadata": {},
   "outputs": [
    {
     "data": {
      "text/plain": [
       "array([51.78510764, -0.99191369, -0.67017306,  2.67994624])"
      ]
     },
     "execution_count": 5,
     "metadata": {},
     "output_type": "execute_result"
    }
   ],
   "source": [
    "from scipy.optimize import curve_fit\n",
    "par, cov = curve_fit( funz, (cento_df['s'], cento_df['i'] ), cento_df['v'] )\n",
    "Vmax, Km, delta, beta = par\n",
    "par"
   ]
  },
  {
   "cell_type": "markdown",
   "metadata": {},
   "source": [
    "$A$=1+i/keis\n",
    "$B$=1+i/kei\n",
    "\n"
   ]
  },
  {
   "cell_type": "code",
   "execution_count": 15,
   "metadata": {},
   "outputs": [
    {
     "data": {
      "text/plain": [
       "6    -66.017306\n",
       "7    -66.017306\n",
       "8    -66.017306\n",
       "9    -66.017306\n",
       "10   -66.017306\n",
       "11   -66.017306\n",
       "Name: i, dtype: float64"
      ]
     },
     "execution_count": 15,
     "metadata": {},
     "output_type": "execute_result"
    }
   ],
   "source": [
    "Keis=1/delta\n",
    "Kei=1/beta\n",
    "A=1+cento_df['i']/Keis\n",
    "B=1+cento_df['i']/Kei"
   ]
  },
  {
   "cell_type": "code",
   "execution_count": null,
   "metadata": {},
   "outputs": [],
   "source": []
  },
  {
   "cell_type": "code",
   "execution_count": null,
   "metadata": {},
   "outputs": [],
   "source": [
    "?pd\n"
   ]
  }
 ],
 "metadata": {
  "kernelspec": {
   "display_name": "Python 3",
   "language": "python",
   "name": "python3"
  },
  "language_info": {
   "codemirror_mode": {
    "name": "ipython",
    "version": 3
   },
   "file_extension": ".py",
   "mimetype": "text/x-python",
   "name": "python",
   "nbconvert_exporter": "python",
   "pygments_lexer": "ipython3",
   "version": "3.7.1"
  }
 },
 "nbformat": 4,
 "nbformat_minor": 2
}
