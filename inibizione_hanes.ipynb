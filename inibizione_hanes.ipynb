{
 "cells": [
  {
   "cell_type": "code",
   "execution_count": 1,
   "metadata": {},
   "outputs": [],
   "source": [
    "#inibizi hanes  s/v = s * (1/Vmax) + Km/Vmax\n",
    "\n"
   ]
  },
  {
   "cell_type": "code",
   "execution_count": 2,
   "metadata": {},
   "outputs": [
    {
     "name": "stdout",
     "output_type": "stream",
     "text": [
      "Enter the measure unit of substrate:gf\n",
      "Enter the measure unit of velocity :ddfg\n",
      "Enter the measure unit of inhibent if present:dgf\n",
      "       s   v_norm   v_inib  conc_inib\n",
      "0  2.000  0.02850  0.01100        1.0\n",
      "1  1.000  0.02450  0.00900        NaN\n",
      "2  0.600  0.02025  0.00600        NaN\n",
      "3  0.400  0.01650  0.00450        NaN\n",
      "4  0.267  0.01325  0.00296        NaN\n",
      "5  0.200  0.01100  0.00210        NaN\n",
      "substrate:gf\n",
      "velocity:ddfg\n",
      "inhibent concentration:dgf\n"
     ]
    }
   ],
   "source": [
    "import pandas as pd\n",
    "#mettere .xlsx dopo il nome del documento excel\n",
    "df = pd.read_excel (r'C:\\Users\\thomas\\Documents\\università\\valetti\\2E.xlsx') \n",
    "df.columns = ['s', 'v_norm', 'v_inib', 'conc_inib'] \n",
    "msus= input(\"Enter the measure unit of substrate:\")\n",
    "msuv= input(\"Enter the measure unit of velocity :\")\n",
    "msui=input(\"Enter the measure unit of inhibent if present:\")\n",
    "print (df)\n",
    "print('substrate:'+msus)\n",
    "print('velocity:'+msuv)\n",
    "print('inhibent concentration:'+msui)"
   ]
  },
  {
   "cell_type": "code",
   "execution_count": 3,
   "metadata": {},
   "outputs": [
    {
     "data": {
      "text/html": [
       "\n",
       "    <div class=\"bk-root\">\n",
       "        <a href=\"https://bokeh.pydata.org\" target=\"_blank\" class=\"bk-logo bk-logo-small bk-logo-notebook\"></a>\n",
       "        <span id=\"1001\">Loading BokehJS ...</span>\n",
       "    </div>"
      ]
     },
     "metadata": {},
     "output_type": "display_data"
    },
    {
     "data": {
      "application/javascript": [
       "\n",
       "(function(root) {\n",
       "  function now() {\n",
       "    return new Date();\n",
       "  }\n",
       "\n",
       "  var force = true;\n",
       "\n",
       "  if (typeof (root._bokeh_onload_callbacks) === \"undefined\" || force === true) {\n",
       "    root._bokeh_onload_callbacks = [];\n",
       "    root._bokeh_is_loading = undefined;\n",
       "  }\n",
       "\n",
       "  var JS_MIME_TYPE = 'application/javascript';\n",
       "  var HTML_MIME_TYPE = 'text/html';\n",
       "  var EXEC_MIME_TYPE = 'application/vnd.bokehjs_exec.v0+json';\n",
       "  var CLASS_NAME = 'output_bokeh rendered_html';\n",
       "\n",
       "  /**\n",
       "   * Render data to the DOM node\n",
       "   */\n",
       "  function render(props, node) {\n",
       "    var script = document.createElement(\"script\");\n",
       "    node.appendChild(script);\n",
       "  }\n",
       "\n",
       "  /**\n",
       "   * Handle when an output is cleared or removed\n",
       "   */\n",
       "  function handleClearOutput(event, handle) {\n",
       "    var cell = handle.cell;\n",
       "\n",
       "    var id = cell.output_area._bokeh_element_id;\n",
       "    var server_id = cell.output_area._bokeh_server_id;\n",
       "    // Clean up Bokeh references\n",
       "    if (id != null && id in Bokeh.index) {\n",
       "      Bokeh.index[id].model.document.clear();\n",
       "      delete Bokeh.index[id];\n",
       "    }\n",
       "\n",
       "    if (server_id !== undefined) {\n",
       "      // Clean up Bokeh references\n",
       "      var cmd = \"from bokeh.io.state import curstate; print(curstate().uuid_to_server['\" + server_id + \"'].get_sessions()[0].document.roots[0]._id)\";\n",
       "      cell.notebook.kernel.execute(cmd, {\n",
       "        iopub: {\n",
       "          output: function(msg) {\n",
       "            var id = msg.content.text.trim();\n",
       "            if (id in Bokeh.index) {\n",
       "              Bokeh.index[id].model.document.clear();\n",
       "              delete Bokeh.index[id];\n",
       "            }\n",
       "          }\n",
       "        }\n",
       "      });\n",
       "      // Destroy server and session\n",
       "      var cmd = \"import bokeh.io.notebook as ion; ion.destroy_server('\" + server_id + \"')\";\n",
       "      cell.notebook.kernel.execute(cmd);\n",
       "    }\n",
       "  }\n",
       "\n",
       "  /**\n",
       "   * Handle when a new output is added\n",
       "   */\n",
       "  function handleAddOutput(event, handle) {\n",
       "    var output_area = handle.output_area;\n",
       "    var output = handle.output;\n",
       "\n",
       "    // limit handleAddOutput to display_data with EXEC_MIME_TYPE content only\n",
       "    if ((output.output_type != \"display_data\") || (!output.data.hasOwnProperty(EXEC_MIME_TYPE))) {\n",
       "      return\n",
       "    }\n",
       "\n",
       "    var toinsert = output_area.element.find(\".\" + CLASS_NAME.split(' ')[0]);\n",
       "\n",
       "    if (output.metadata[EXEC_MIME_TYPE][\"id\"] !== undefined) {\n",
       "      toinsert[toinsert.length - 1].firstChild.textContent = output.data[JS_MIME_TYPE];\n",
       "      // store reference to embed id on output_area\n",
       "      output_area._bokeh_element_id = output.metadata[EXEC_MIME_TYPE][\"id\"];\n",
       "    }\n",
       "    if (output.metadata[EXEC_MIME_TYPE][\"server_id\"] !== undefined) {\n",
       "      var bk_div = document.createElement(\"div\");\n",
       "      bk_div.innerHTML = output.data[HTML_MIME_TYPE];\n",
       "      var script_attrs = bk_div.children[0].attributes;\n",
       "      for (var i = 0; i < script_attrs.length; i++) {\n",
       "        toinsert[toinsert.length - 1].firstChild.setAttribute(script_attrs[i].name, script_attrs[i].value);\n",
       "      }\n",
       "      // store reference to server id on output_area\n",
       "      output_area._bokeh_server_id = output.metadata[EXEC_MIME_TYPE][\"server_id\"];\n",
       "    }\n",
       "  }\n",
       "\n",
       "  function register_renderer(events, OutputArea) {\n",
       "\n",
       "    function append_mime(data, metadata, element) {\n",
       "      // create a DOM node to render to\n",
       "      var toinsert = this.create_output_subarea(\n",
       "        metadata,\n",
       "        CLASS_NAME,\n",
       "        EXEC_MIME_TYPE\n",
       "      );\n",
       "      this.keyboard_manager.register_events(toinsert);\n",
       "      // Render to node\n",
       "      var props = {data: data, metadata: metadata[EXEC_MIME_TYPE]};\n",
       "      render(props, toinsert[toinsert.length - 1]);\n",
       "      element.append(toinsert);\n",
       "      return toinsert\n",
       "    }\n",
       "\n",
       "    /* Handle when an output is cleared or removed */\n",
       "    events.on('clear_output.CodeCell', handleClearOutput);\n",
       "    events.on('delete.Cell', handleClearOutput);\n",
       "\n",
       "    /* Handle when a new output is added */\n",
       "    events.on('output_added.OutputArea', handleAddOutput);\n",
       "\n",
       "    /**\n",
       "     * Register the mime type and append_mime function with output_area\n",
       "     */\n",
       "    OutputArea.prototype.register_mime_type(EXEC_MIME_TYPE, append_mime, {\n",
       "      /* Is output safe? */\n",
       "      safe: true,\n",
       "      /* Index of renderer in `output_area.display_order` */\n",
       "      index: 0\n",
       "    });\n",
       "  }\n",
       "\n",
       "  // register the mime type if in Jupyter Notebook environment and previously unregistered\n",
       "  if (root.Jupyter !== undefined) {\n",
       "    var events = require('base/js/events');\n",
       "    var OutputArea = require('notebook/js/outputarea').OutputArea;\n",
       "\n",
       "    if (OutputArea.prototype.mime_types().indexOf(EXEC_MIME_TYPE) == -1) {\n",
       "      register_renderer(events, OutputArea);\n",
       "    }\n",
       "  }\n",
       "\n",
       "  \n",
       "  if (typeof (root._bokeh_timeout) === \"undefined\" || force === true) {\n",
       "    root._bokeh_timeout = Date.now() + 5000;\n",
       "    root._bokeh_failed_load = false;\n",
       "  }\n",
       "\n",
       "  var NB_LOAD_WARNING = {'data': {'text/html':\n",
       "     \"<div style='background-color: #fdd'>\\n\"+\n",
       "     \"<p>\\n\"+\n",
       "     \"BokehJS does not appear to have successfully loaded. If loading BokehJS from CDN, this \\n\"+\n",
       "     \"may be due to a slow or bad network connection. Possible fixes:\\n\"+\n",
       "     \"</p>\\n\"+\n",
       "     \"<ul>\\n\"+\n",
       "     \"<li>re-rerun `output_notebook()` to attempt to load from CDN again, or</li>\\n\"+\n",
       "     \"<li>use INLINE resources instead, as so:</li>\\n\"+\n",
       "     \"</ul>\\n\"+\n",
       "     \"<code>\\n\"+\n",
       "     \"from bokeh.resources import INLINE\\n\"+\n",
       "     \"output_notebook(resources=INLINE)\\n\"+\n",
       "     \"</code>\\n\"+\n",
       "     \"</div>\"}};\n",
       "\n",
       "  function display_loaded() {\n",
       "    var el = document.getElementById(\"1001\");\n",
       "    if (el != null) {\n",
       "      el.textContent = \"BokehJS is loading...\";\n",
       "    }\n",
       "    if (root.Bokeh !== undefined) {\n",
       "      if (el != null) {\n",
       "        el.textContent = \"BokehJS \" + root.Bokeh.version + \" successfully loaded.\";\n",
       "      }\n",
       "    } else if (Date.now() < root._bokeh_timeout) {\n",
       "      setTimeout(display_loaded, 100)\n",
       "    }\n",
       "  }\n",
       "\n",
       "\n",
       "  function run_callbacks() {\n",
       "    try {\n",
       "      root._bokeh_onload_callbacks.forEach(function(callback) { callback() });\n",
       "    }\n",
       "    finally {\n",
       "      delete root._bokeh_onload_callbacks\n",
       "    }\n",
       "    console.info(\"Bokeh: all callbacks have finished\");\n",
       "  }\n",
       "\n",
       "  function load_libs(js_urls, callback) {\n",
       "    root._bokeh_onload_callbacks.push(callback);\n",
       "    if (root._bokeh_is_loading > 0) {\n",
       "      console.log(\"Bokeh: BokehJS is being loaded, scheduling callback at\", now());\n",
       "      return null;\n",
       "    }\n",
       "    if (js_urls == null || js_urls.length === 0) {\n",
       "      run_callbacks();\n",
       "      return null;\n",
       "    }\n",
       "    console.log(\"Bokeh: BokehJS not loaded, scheduling load and callback at\", now());\n",
       "    root._bokeh_is_loading = js_urls.length;\n",
       "    for (var i = 0; i < js_urls.length; i++) {\n",
       "      var url = js_urls[i];\n",
       "      var s = document.createElement('script');\n",
       "      s.src = url;\n",
       "      s.async = false;\n",
       "      s.onreadystatechange = s.onload = function() {\n",
       "        root._bokeh_is_loading--;\n",
       "        if (root._bokeh_is_loading === 0) {\n",
       "          console.log(\"Bokeh: all BokehJS libraries loaded\");\n",
       "          run_callbacks()\n",
       "        }\n",
       "      };\n",
       "      s.onerror = function() {\n",
       "        console.warn(\"failed to load library \" + url);\n",
       "      };\n",
       "      console.log(\"Bokeh: injecting script tag for BokehJS library: \", url);\n",
       "      document.getElementsByTagName(\"head\")[0].appendChild(s);\n",
       "    }\n",
       "  };var element = document.getElementById(\"1001\");\n",
       "  if (element == null) {\n",
       "    console.log(\"Bokeh: ERROR: autoload.js configured with elementid '1001' but no matching script tag was found. \")\n",
       "    return false;\n",
       "  }\n",
       "\n",
       "  var js_urls = [\"https://cdn.pydata.org/bokeh/release/bokeh-1.0.2.min.js\", \"https://cdn.pydata.org/bokeh/release/bokeh-widgets-1.0.2.min.js\", \"https://cdn.pydata.org/bokeh/release/bokeh-tables-1.0.2.min.js\", \"https://cdn.pydata.org/bokeh/release/bokeh-gl-1.0.2.min.js\"];\n",
       "\n",
       "  var inline_js = [\n",
       "    function(Bokeh) {\n",
       "      Bokeh.set_log_level(\"info\");\n",
       "    },\n",
       "    \n",
       "    function(Bokeh) {\n",
       "      \n",
       "    },\n",
       "    function(Bokeh) {\n",
       "      console.log(\"Bokeh: injecting CSS: https://cdn.pydata.org/bokeh/release/bokeh-1.0.2.min.css\");\n",
       "      Bokeh.embed.inject_css(\"https://cdn.pydata.org/bokeh/release/bokeh-1.0.2.min.css\");\n",
       "      console.log(\"Bokeh: injecting CSS: https://cdn.pydata.org/bokeh/release/bokeh-widgets-1.0.2.min.css\");\n",
       "      Bokeh.embed.inject_css(\"https://cdn.pydata.org/bokeh/release/bokeh-widgets-1.0.2.min.css\");\n",
       "      console.log(\"Bokeh: injecting CSS: https://cdn.pydata.org/bokeh/release/bokeh-tables-1.0.2.min.css\");\n",
       "      Bokeh.embed.inject_css(\"https://cdn.pydata.org/bokeh/release/bokeh-tables-1.0.2.min.css\");\n",
       "    }\n",
       "  ];\n",
       "\n",
       "  function run_inline_js() {\n",
       "    \n",
       "    if ((root.Bokeh !== undefined) || (force === true)) {\n",
       "      for (var i = 0; i < inline_js.length; i++) {\n",
       "        inline_js[i].call(root, root.Bokeh);\n",
       "      }if (force === true) {\n",
       "        display_loaded();\n",
       "      }} else if (Date.now() < root._bokeh_timeout) {\n",
       "      setTimeout(run_inline_js, 100);\n",
       "    } else if (!root._bokeh_failed_load) {\n",
       "      console.log(\"Bokeh: BokehJS failed to load within specified timeout.\");\n",
       "      root._bokeh_failed_load = true;\n",
       "    } else if (force !== true) {\n",
       "      var cell = $(document.getElementById(\"1001\")).parents('.cell').data().cell;\n",
       "      cell.output_area.append_execute_result(NB_LOAD_WARNING)\n",
       "    }\n",
       "\n",
       "  }\n",
       "\n",
       "  if (root._bokeh_is_loading === 0) {\n",
       "    console.log(\"Bokeh: BokehJS loaded, going straight to plotting\");\n",
       "    run_inline_js();\n",
       "  } else {\n",
       "    load_libs(js_urls, function() {\n",
       "      console.log(\"Bokeh: BokehJS plotting callback run at\", now());\n",
       "      run_inline_js();\n",
       "    });\n",
       "  }\n",
       "}(window));"
      ],
      "application/vnd.bokehjs_load.v0+json": "\n(function(root) {\n  function now() {\n    return new Date();\n  }\n\n  var force = true;\n\n  if (typeof (root._bokeh_onload_callbacks) === \"undefined\" || force === true) {\n    root._bokeh_onload_callbacks = [];\n    root._bokeh_is_loading = undefined;\n  }\n\n  \n\n  \n  if (typeof (root._bokeh_timeout) === \"undefined\" || force === true) {\n    root._bokeh_timeout = Date.now() + 5000;\n    root._bokeh_failed_load = false;\n  }\n\n  var NB_LOAD_WARNING = {'data': {'text/html':\n     \"<div style='background-color: #fdd'>\\n\"+\n     \"<p>\\n\"+\n     \"BokehJS does not appear to have successfully loaded. If loading BokehJS from CDN, this \\n\"+\n     \"may be due to a slow or bad network connection. Possible fixes:\\n\"+\n     \"</p>\\n\"+\n     \"<ul>\\n\"+\n     \"<li>re-rerun `output_notebook()` to attempt to load from CDN again, or</li>\\n\"+\n     \"<li>use INLINE resources instead, as so:</li>\\n\"+\n     \"</ul>\\n\"+\n     \"<code>\\n\"+\n     \"from bokeh.resources import INLINE\\n\"+\n     \"output_notebook(resources=INLINE)\\n\"+\n     \"</code>\\n\"+\n     \"</div>\"}};\n\n  function display_loaded() {\n    var el = document.getElementById(\"1001\");\n    if (el != null) {\n      el.textContent = \"BokehJS is loading...\";\n    }\n    if (root.Bokeh !== undefined) {\n      if (el != null) {\n        el.textContent = \"BokehJS \" + root.Bokeh.version + \" successfully loaded.\";\n      }\n    } else if (Date.now() < root._bokeh_timeout) {\n      setTimeout(display_loaded, 100)\n    }\n  }\n\n\n  function run_callbacks() {\n    try {\n      root._bokeh_onload_callbacks.forEach(function(callback) { callback() });\n    }\n    finally {\n      delete root._bokeh_onload_callbacks\n    }\n    console.info(\"Bokeh: all callbacks have finished\");\n  }\n\n  function load_libs(js_urls, callback) {\n    root._bokeh_onload_callbacks.push(callback);\n    if (root._bokeh_is_loading > 0) {\n      console.log(\"Bokeh: BokehJS is being loaded, scheduling callback at\", now());\n      return null;\n    }\n    if (js_urls == null || js_urls.length === 0) {\n      run_callbacks();\n      return null;\n    }\n    console.log(\"Bokeh: BokehJS not loaded, scheduling load and callback at\", now());\n    root._bokeh_is_loading = js_urls.length;\n    for (var i = 0; i < js_urls.length; i++) {\n      var url = js_urls[i];\n      var s = document.createElement('script');\n      s.src = url;\n      s.async = false;\n      s.onreadystatechange = s.onload = function() {\n        root._bokeh_is_loading--;\n        if (root._bokeh_is_loading === 0) {\n          console.log(\"Bokeh: all BokehJS libraries loaded\");\n          run_callbacks()\n        }\n      };\n      s.onerror = function() {\n        console.warn(\"failed to load library \" + url);\n      };\n      console.log(\"Bokeh: injecting script tag for BokehJS library: \", url);\n      document.getElementsByTagName(\"head\")[0].appendChild(s);\n    }\n  };var element = document.getElementById(\"1001\");\n  if (element == null) {\n    console.log(\"Bokeh: ERROR: autoload.js configured with elementid '1001' but no matching script tag was found. \")\n    return false;\n  }\n\n  var js_urls = [\"https://cdn.pydata.org/bokeh/release/bokeh-1.0.2.min.js\", \"https://cdn.pydata.org/bokeh/release/bokeh-widgets-1.0.2.min.js\", \"https://cdn.pydata.org/bokeh/release/bokeh-tables-1.0.2.min.js\", \"https://cdn.pydata.org/bokeh/release/bokeh-gl-1.0.2.min.js\"];\n\n  var inline_js = [\n    function(Bokeh) {\n      Bokeh.set_log_level(\"info\");\n    },\n    \n    function(Bokeh) {\n      \n    },\n    function(Bokeh) {\n      console.log(\"Bokeh: injecting CSS: https://cdn.pydata.org/bokeh/release/bokeh-1.0.2.min.css\");\n      Bokeh.embed.inject_css(\"https://cdn.pydata.org/bokeh/release/bokeh-1.0.2.min.css\");\n      console.log(\"Bokeh: injecting CSS: https://cdn.pydata.org/bokeh/release/bokeh-widgets-1.0.2.min.css\");\n      Bokeh.embed.inject_css(\"https://cdn.pydata.org/bokeh/release/bokeh-widgets-1.0.2.min.css\");\n      console.log(\"Bokeh: injecting CSS: https://cdn.pydata.org/bokeh/release/bokeh-tables-1.0.2.min.css\");\n      Bokeh.embed.inject_css(\"https://cdn.pydata.org/bokeh/release/bokeh-tables-1.0.2.min.css\");\n    }\n  ];\n\n  function run_inline_js() {\n    \n    if ((root.Bokeh !== undefined) || (force === true)) {\n      for (var i = 0; i < inline_js.length; i++) {\n        inline_js[i].call(root, root.Bokeh);\n      }if (force === true) {\n        display_loaded();\n      }} else if (Date.now() < root._bokeh_timeout) {\n      setTimeout(run_inline_js, 100);\n    } else if (!root._bokeh_failed_load) {\n      console.log(\"Bokeh: BokehJS failed to load within specified timeout.\");\n      root._bokeh_failed_load = true;\n    } else if (force !== true) {\n      var cell = $(document.getElementById(\"1001\")).parents('.cell').data().cell;\n      cell.output_area.append_execute_result(NB_LOAD_WARNING)\n    }\n\n  }\n\n  if (root._bokeh_is_loading === 0) {\n    console.log(\"Bokeh: BokehJS loaded, going straight to plotting\");\n    run_inline_js();\n  } else {\n    load_libs(js_urls, function() {\n      console.log(\"Bokeh: BokehJS plotting callback run at\", now());\n      run_inline_js();\n    });\n  }\n}(window));"
     },
     "metadata": {},
     "output_type": "display_data"
    }
   ],
   "source": [
    "from bokeh.plotting import figure, show, output_notebook\n",
    "param = dict(width = 700, height = 250,\n",
    "             tools = 'wheel_zoom, reset,pan, box_zoom',\n",
    "             tooltips = [( 'substrate',   '@s'), ( 'velocity',   '@v')],\n",
    "            )\n",
    "output_notebook()"
   ]
  },
  {
   "cell_type": "code",
   "execution_count": 13,
   "metadata": {},
   "outputs": [
    {
     "data": {
      "text/html": [
       "\n",
       "\n",
       "\n",
       "\n",
       "\n",
       "\n",
       "  <div class=\"bk-root\" id=\"fcf8858b-5411-47fa-8ebf-7fe8c3c3c635\"></div>\n"
      ]
     },
     "metadata": {},
     "output_type": "display_data"
    },
    {
     "data": {
      "application/javascript": [
       "(function(root) {\n",
       "  function embed_document(root) {\n",
       "    \n",
       "  var docs_json = {\"a6fbd71f-88e9-45f0-92cb-0abf128bd4b9\":{\"roots\":{\"references\":[{\"attributes\":{\"below\":[{\"id\":\"1425\",\"type\":\"LinearAxis\"}],\"left\":[{\"id\":\"1430\",\"type\":\"LinearAxis\"}],\"plot_height\":250,\"plot_width\":700,\"renderers\":[{\"id\":\"1425\",\"type\":\"LinearAxis\"},{\"id\":\"1429\",\"type\":\"Grid\"},{\"id\":\"1430\",\"type\":\"LinearAxis\"},{\"id\":\"1434\",\"type\":\"Grid\"},{\"id\":\"1443\",\"type\":\"BoxAnnotation\"},{\"id\":\"1452\",\"type\":\"GlyphRenderer\"},{\"id\":\"1458\",\"type\":\"GlyphRenderer\"}],\"title\":{\"id\":\"1487\",\"type\":\"Title\"},\"toolbar\":{\"id\":\"1440\",\"type\":\"Toolbar\"},\"x_range\":{\"id\":\"1417\",\"type\":\"DataRange1d\"},\"x_scale\":{\"id\":\"1421\",\"type\":\"LinearScale\"},\"y_range\":{\"id\":\"1419\",\"type\":\"DataRange1d\"},\"y_scale\":{\"id\":\"1423\",\"type\":\"LinearScale\"}},\"id\":\"1416\",\"subtype\":\"Figure\",\"type\":\"Plot\"},{\"attributes\":{\"callback\":null},\"id\":\"1417\",\"type\":\"DataRange1d\"},{\"attributes\":{},\"id\":\"1436\",\"type\":\"ResetTool\"},{\"attributes\":{\"callback\":null,\"data\":{\"conc_inib\":{\"__ndarray__\":\"AAAAAAAA8D8AAAAAAAD4fwAAAAAAAPh/AAAAAAAA+H8AAAAAAAD4fwAAAAAAAPh/\",\"dtype\":\"float64\",\"shape\":[6]},\"index\":[0,1,2,3,4,5],\"s\":{\"__ndarray__\":\"AAAAAAAAAEAAAAAAAADwPzMzMzMzM+M/mpmZmZmZ2T9KDAIrhxbRP5qZmZmZmck/\",\"dtype\":\"float64\",\"shape\":[6]},\"s/v_inib\":{\"__ndarray__\":\"u+iiiy66ZkByHMdxHMdbQAAAAAAAAFlAj+M4juM4VkDQusEU+YxWQPU8z/M8z1dA\",\"dtype\":\"float64\",\"shape\":[6]},\"s/v_norm\":{\"__ndarray__\":\"s5jOYjqLUUAa60NjfWhEQBLaS2gvoT1APvjggw8+OEDyVvY5pCY0QC+66KKLLjJA\",\"dtype\":\"float64\",\"shape\":[6]},\"v_inib\":{\"__ndarray__\":\"ukkMAiuHhj8730+Nl26CP/p+arx0k3g/O99PjZducj9W8UbmkT9oPxWMSuoENGE/\",\"dtype\":\"float64\",\"shape\":[6]},\"v_norm\":{\"__ndarray__\":\"yXa+nxovnT9KDAIrhxaZPyPb+X5qvJQ/TDeJQWDlkD+JQWDl0CKLP7pJDAIrh4Y/\",\"dtype\":\"float64\",\"shape\":[6]}},\"selected\":{\"id\":\"1494\",\"type\":\"Selection\"},\"selection_policy\":{\"id\":\"1493\",\"type\":\"UnionRenderers\"}},\"id\":\"1448\",\"type\":\"ColumnDataSource\"},{\"attributes\":{},\"id\":\"1495\",\"type\":\"UnionRenderers\"},{\"attributes\":{\"callback\":null,\"data\":{\"conc_inib\":{\"__ndarray__\":\"AAAAAAAA8D8AAAAAAAD4fwAAAAAAAPh/AAAAAAAA+H8AAAAAAAD4fwAAAAAAAPh/\",\"dtype\":\"float64\",\"shape\":[6]},\"index\":[0,1,2,3,4,5],\"s\":{\"__ndarray__\":\"AAAAAAAAAEAAAAAAAADwPzMzMzMzM+M/mpmZmZmZ2T9KDAIrhxbRP5qZmZmZmck/\",\"dtype\":\"float64\",\"shape\":[6]},\"s/v_inib\":{\"__ndarray__\":\"u+iiiy66ZkByHMdxHMdbQAAAAAAAAFlAj+M4juM4VkDQusEU+YxWQPU8z/M8z1dA\",\"dtype\":\"float64\",\"shape\":[6]},\"s/v_norm\":{\"__ndarray__\":\"s5jOYjqLUUAa60NjfWhEQBLaS2gvoT1APvjggw8+OEDyVvY5pCY0QC+66KKLLjJA\",\"dtype\":\"float64\",\"shape\":[6]},\"v_inib\":{\"__ndarray__\":\"ukkMAiuHhj8730+Nl26CP/p+arx0k3g/O99PjZducj9W8UbmkT9oPxWMSuoENGE/\",\"dtype\":\"float64\",\"shape\":[6]},\"v_norm\":{\"__ndarray__\":\"yXa+nxovnT9KDAIrhxaZPyPb+X5qvJQ/TDeJQWDlkD+JQWDl0CKLP7pJDAIrh4Y/\",\"dtype\":\"float64\",\"shape\":[6]}},\"selected\":{\"id\":\"1496\",\"type\":\"Selection\"},\"selection_policy\":{\"id\":\"1495\",\"type\":\"UnionRenderers\"}},\"id\":\"1454\",\"type\":\"ColumnDataSource\"},{\"attributes\":{},\"id\":\"1431\",\"type\":\"BasicTicker\"},{\"attributes\":{\"dimension\":1,\"plot\":{\"id\":\"1416\",\"subtype\":\"Figure\",\"type\":\"Plot\"},\"ticker\":{\"id\":\"1431\",\"type\":\"BasicTicker\"}},\"id\":\"1434\",\"type\":\"Grid\"},{\"attributes\":{\"fill_alpha\":{\"value\":0.1},\"fill_color\":{\"value\":\"#1f77b4\"},\"line_alpha\":{\"value\":0.1},\"line_color\":{\"value\":\"#1f77b4\"},\"x\":{\"field\":\"s\"},\"y\":{\"field\":\"v_norm\"}},\"id\":\"1451\",\"type\":\"Circle\"},{\"attributes\":{\"plot\":{\"id\":\"1416\",\"subtype\":\"Figure\",\"type\":\"Plot\"},\"ticker\":{\"id\":\"1426\",\"type\":\"BasicTicker\"}},\"id\":\"1429\",\"type\":\"Grid\"},{\"attributes\":{\"bottom_units\":\"screen\",\"fill_alpha\":{\"value\":0.5},\"fill_color\":{\"value\":\"lightgrey\"},\"left_units\":\"screen\",\"level\":\"overlay\",\"line_alpha\":{\"value\":1.0},\"line_color\":{\"value\":\"black\"},\"line_dash\":[4,4],\"line_width\":{\"value\":2},\"plot\":null,\"render_mode\":\"css\",\"right_units\":\"screen\",\"top_units\":\"screen\"},\"id\":\"1443\",\"type\":\"BoxAnnotation\"},{\"attributes\":{\"source\":{\"id\":\"1454\",\"type\":\"ColumnDataSource\"}},\"id\":\"1459\",\"type\":\"CDSView\"},{\"attributes\":{\"callback\":null},\"id\":\"1419\",\"type\":\"DataRange1d\"},{\"attributes\":{\"plot\":null,\"text\":\"\"},\"id\":\"1487\",\"type\":\"Title\"},{\"attributes\":{\"data_source\":{\"id\":\"1448\",\"type\":\"ColumnDataSource\"},\"glyph\":{\"id\":\"1450\",\"type\":\"Circle\"},\"hover_glyph\":null,\"muted_glyph\":null,\"nonselection_glyph\":{\"id\":\"1451\",\"type\":\"Circle\"},\"selection_glyph\":null,\"view\":{\"id\":\"1453\",\"type\":\"CDSView\"}},\"id\":\"1452\",\"type\":\"GlyphRenderer\"},{\"attributes\":{},\"id\":\"1489\",\"type\":\"BasicTickFormatter\"},{\"attributes\":{\"axis_label\":\"Concentrazione substrato gf\",\"formatter\":{\"id\":\"1489\",\"type\":\"BasicTickFormatter\"},\"plot\":{\"id\":\"1416\",\"subtype\":\"Figure\",\"type\":\"Plot\"},\"ticker\":{\"id\":\"1426\",\"type\":\"BasicTicker\"}},\"id\":\"1425\",\"type\":\"LinearAxis\"},{\"attributes\":{},\"id\":\"1491\",\"type\":\"BasicTickFormatter\"},{\"attributes\":{\"source\":{\"id\":\"1448\",\"type\":\"ColumnDataSource\"}},\"id\":\"1453\",\"type\":\"CDSView\"},{\"attributes\":{\"callback\":null,\"tooltips\":[[\"substrate\",\"@s\"],[\"velocity\",\"@v\"]]},\"id\":\"1439\",\"type\":\"HoverTool\"},{\"attributes\":{},\"id\":\"1494\",\"type\":\"Selection\"},{\"attributes\":{},\"id\":\"1423\",\"type\":\"LinearScale\"},{\"attributes\":{},\"id\":\"1496\",\"type\":\"Selection\"},{\"attributes\":{\"fill_color\":{\"value\":\"#1f77b4\"},\"line_color\":{\"value\":\"#1f77b4\"},\"x\":{\"field\":\"s\"},\"y\":{\"field\":\"v_norm\"}},\"id\":\"1450\",\"type\":\"Circle\"},{\"attributes\":{},\"id\":\"1421\",\"type\":\"LinearScale\"},{\"attributes\":{},\"id\":\"1437\",\"type\":\"PanTool\"},{\"attributes\":{\"overlay\":{\"id\":\"1443\",\"type\":\"BoxAnnotation\"}},\"id\":\"1438\",\"type\":\"BoxZoomTool\"},{\"attributes\":{\"data_source\":{\"id\":\"1454\",\"type\":\"ColumnDataSource\"},\"glyph\":{\"id\":\"1456\",\"type\":\"Square\"},\"hover_glyph\":null,\"muted_glyph\":null,\"nonselection_glyph\":{\"id\":\"1457\",\"type\":\"Square\"},\"selection_glyph\":null,\"view\":{\"id\":\"1459\",\"type\":\"CDSView\"}},\"id\":\"1458\",\"type\":\"GlyphRenderer\"},{\"attributes\":{\"axis_label\":\"Velocit\\u00e0 di reazione ddfg\",\"formatter\":{\"id\":\"1491\",\"type\":\"BasicTickFormatter\"},\"plot\":{\"id\":\"1416\",\"subtype\":\"Figure\",\"type\":\"Plot\"},\"ticker\":{\"id\":\"1431\",\"type\":\"BasicTicker\"}},\"id\":\"1430\",\"type\":\"LinearAxis\"},{\"attributes\":{},\"id\":\"1426\",\"type\":\"BasicTicker\"},{\"attributes\":{},\"id\":\"1435\",\"type\":\"WheelZoomTool\"},{\"attributes\":{\"active_drag\":\"auto\",\"active_inspect\":\"auto\",\"active_multi\":null,\"active_scroll\":\"auto\",\"active_tap\":\"auto\",\"tools\":[{\"id\":\"1435\",\"type\":\"WheelZoomTool\"},{\"id\":\"1436\",\"type\":\"ResetTool\"},{\"id\":\"1437\",\"type\":\"PanTool\"},{\"id\":\"1438\",\"type\":\"BoxZoomTool\"},{\"id\":\"1439\",\"type\":\"HoverTool\"}]},\"id\":\"1440\",\"type\":\"Toolbar\"},{\"attributes\":{\"fill_alpha\":{\"value\":0.1},\"fill_color\":{\"value\":\"#1f77b4\"},\"line_alpha\":{\"value\":0.1},\"line_color\":{\"value\":\"#1f77b4\"},\"x\":{\"field\":\"s\"},\"y\":{\"field\":\"v_inib\"}},\"id\":\"1457\",\"type\":\"Square\"},{\"attributes\":{},\"id\":\"1493\",\"type\":\"UnionRenderers\"},{\"attributes\":{\"fill_color\":{\"value\":\"#1f77b4\"},\"line_color\":{\"value\":\"#1f77b4\"},\"x\":{\"field\":\"s\"},\"y\":{\"field\":\"v_inib\"}},\"id\":\"1456\",\"type\":\"Square\"}],\"root_ids\":[\"1416\"]},\"title\":\"Bokeh Application\",\"version\":\"1.0.2\"}};\n",
       "  var render_items = [{\"docid\":\"a6fbd71f-88e9-45f0-92cb-0abf128bd4b9\",\"roots\":{\"1416\":\"fcf8858b-5411-47fa-8ebf-7fe8c3c3c635\"}}];\n",
       "  root.Bokeh.embed.embed_items_notebook(docs_json, render_items);\n",
       "\n",
       "  }\n",
       "  if (root.Bokeh !== undefined) {\n",
       "    embed_document(root);\n",
       "  } else {\n",
       "    var attempts = 0;\n",
       "    var timer = setInterval(function(root) {\n",
       "      if (root.Bokeh !== undefined) {\n",
       "        embed_document(root);\n",
       "        clearInterval(timer);\n",
       "      }\n",
       "      attempts++;\n",
       "      if (attempts > 100) {\n",
       "        console.log(\"Bokeh: ERROR: Unable to run BokehJS code because BokehJS library is missing\");\n",
       "        clearInterval(timer);\n",
       "      }\n",
       "    }, 10, root)\n",
       "  }\n",
       "})(window);"
      ],
      "application/vnd.bokehjs_exec.v0+json": ""
     },
     "metadata": {
      "application/vnd.bokehjs_exec.v0+json": {
       "id": "1416"
      }
     },
     "output_type": "display_data"
    },
    {
     "name": "stdout",
     "output_type": "stream",
     "text": [
      "the square values are the inhibited ones\n"
     ]
    }
   ],
   "source": [
    "p = figure(x_axis_label='Concentrazione substrato '+msus,\n",
    "           y_axis_label='Velocità di reazione '+ msuv,\n",
    "           **param,\n",
    "           )\n",
    "p.circle( 's', 'v_norm', source=df )\n",
    "p.square('s', 'v_inib', source=df) \n",
    "show( p )\n",
    "print('the square values are the inhibited ones')"
   ]
  },
  {
   "cell_type": "code",
   "execution_count": 14,
   "metadata": {},
   "outputs": [
    {
     "data": {
      "text/html": [
       "<div>\n",
       "<style scoped>\n",
       "    .dataframe tbody tr th:only-of-type {\n",
       "        vertical-align: middle;\n",
       "    }\n",
       "\n",
       "    .dataframe tbody tr th {\n",
       "        vertical-align: top;\n",
       "    }\n",
       "\n",
       "    .dataframe thead th {\n",
       "        text-align: right;\n",
       "    }\n",
       "</style>\n",
       "<table border=\"1\" class=\"dataframe\">\n",
       "  <thead>\n",
       "    <tr style=\"text-align: right;\">\n",
       "      <th></th>\n",
       "      <th>s</th>\n",
       "      <th>v_norm</th>\n",
       "      <th>v_inib</th>\n",
       "      <th>conc_inib</th>\n",
       "      <th>s/v_norm</th>\n",
       "      <th>s/v_inib</th>\n",
       "    </tr>\n",
       "  </thead>\n",
       "  <tbody>\n",
       "    <tr>\n",
       "      <th>0</th>\n",
       "      <td>2.000</td>\n",
       "      <td>0.02850</td>\n",
       "      <td>0.01100</td>\n",
       "      <td>1.0</td>\n",
       "      <td>70.175439</td>\n",
       "      <td>181.818182</td>\n",
       "    </tr>\n",
       "    <tr>\n",
       "      <th>1</th>\n",
       "      <td>1.000</td>\n",
       "      <td>0.02450</td>\n",
       "      <td>0.00900</td>\n",
       "      <td>NaN</td>\n",
       "      <td>40.816327</td>\n",
       "      <td>111.111111</td>\n",
       "    </tr>\n",
       "    <tr>\n",
       "      <th>2</th>\n",
       "      <td>0.600</td>\n",
       "      <td>0.02025</td>\n",
       "      <td>0.00600</td>\n",
       "      <td>NaN</td>\n",
       "      <td>29.629630</td>\n",
       "      <td>100.000000</td>\n",
       "    </tr>\n",
       "    <tr>\n",
       "      <th>3</th>\n",
       "      <td>0.400</td>\n",
       "      <td>0.01650</td>\n",
       "      <td>0.00450</td>\n",
       "      <td>NaN</td>\n",
       "      <td>24.242424</td>\n",
       "      <td>88.888889</td>\n",
       "    </tr>\n",
       "    <tr>\n",
       "      <th>4</th>\n",
       "      <td>0.267</td>\n",
       "      <td>0.01325</td>\n",
       "      <td>0.00296</td>\n",
       "      <td>NaN</td>\n",
       "      <td>20.150943</td>\n",
       "      <td>90.202703</td>\n",
       "    </tr>\n",
       "    <tr>\n",
       "      <th>5</th>\n",
       "      <td>0.200</td>\n",
       "      <td>0.01100</td>\n",
       "      <td>0.00210</td>\n",
       "      <td>NaN</td>\n",
       "      <td>18.181818</td>\n",
       "      <td>95.238095</td>\n",
       "    </tr>\n",
       "  </tbody>\n",
       "</table>\n",
       "</div>"
      ],
      "text/plain": [
       "       s   v_norm   v_inib  conc_inib   s/v_norm    s/v_inib\n",
       "0  2.000  0.02850  0.01100        1.0  70.175439  181.818182\n",
       "1  1.000  0.02450  0.00900        NaN  40.816327  111.111111\n",
       "2  0.600  0.02025  0.00600        NaN  29.629630  100.000000\n",
       "3  0.400  0.01650  0.00450        NaN  24.242424   88.888889\n",
       "4  0.267  0.01325  0.00296        NaN  20.150943   90.202703\n",
       "5  0.200  0.01100  0.00210        NaN  18.181818   95.238095"
      ]
     },
     "execution_count": 14,
     "metadata": {},
     "output_type": "execute_result"
    }
   ],
   "source": [
    "df['s/v_norm'] = df['s']/df['v_norm']\n",
    "df['s/v_inib']= df['s']/df['v_inib']\n",
    "df\n"
   ]
  },
  {
   "cell_type": "code",
   "execution_count": 15,
   "metadata": {},
   "outputs": [
    {
     "data": {
      "text/plain": [
       "'The slope non-inhibited is 28.79013990098982, and the intercept non-inibited is 12.431837606580064'"
      ]
     },
     "execution_count": 15,
     "metadata": {},
     "output_type": "execute_result"
    }
   ],
   "source": [
    "from scipy.stats import linregress\n",
    "slope_norm, intercept_norm, r_value, p_value, std_err = linregress( df['s'], df['s/v_norm'] )\n",
    "slope_norm, intercept_norm   \n",
    "'The slope non-inhibited is {}, and the intercept non-inibited is {}'.format(slope_norm, intercept_norm)"
   ]
  },
  {
   "cell_type": "code",
   "execution_count": 16,
   "metadata": {},
   "outputs": [
    {
     "data": {
      "text/plain": [
       "'The slope inhibited is 50.59857783326544, and the intercept inibited is 73.53918876296385'"
      ]
     },
     "execution_count": 16,
     "metadata": {},
     "output_type": "execute_result"
    }
   ],
   "source": [
    "from scipy.stats import linregress\n",
    "slope_inib, intercept_inib, r_value, p_value, std_err = linregress( df['s'], df['s/v_inib'] )\n",
    "'The slope inhibited is {}, and the intercept inibited is {}'.format(slope_inib, intercept_inib)"
   ]
  },
  {
   "cell_type": "code",
   "execution_count": 17,
   "metadata": {},
   "outputs": [],
   "source": [
    "from numpy import array "
   ]
  },
  {
   "cell_type": "code",
   "execution_count": 18,
   "metadata": {},
   "outputs": [
    {
     "data": {
      "text/html": [
       "\n",
       "\n",
       "\n",
       "\n",
       "\n",
       "\n",
       "  <div class=\"bk-root\" id=\"5cab8ab1-d4da-4a6d-af98-a6114b0d29b2\"></div>\n"
      ]
     },
     "metadata": {},
     "output_type": "display_data"
    },
    {
     "data": {
      "application/javascript": [
       "(function(root) {\n",
       "  function embed_document(root) {\n",
       "    \n",
       "  var docs_json = {\"527c3552-47e5-4158-8ecb-9282293f3094\":{\"roots\":{\"references\":[{\"attributes\":{\"below\":[{\"id\":\"1575\",\"type\":\"LinearAxis\"}],\"left\":[{\"id\":\"1580\",\"type\":\"LinearAxis\"}],\"plot_height\":250,\"plot_width\":700,\"renderers\":[{\"id\":\"1575\",\"type\":\"LinearAxis\"},{\"id\":\"1579\",\"type\":\"Grid\"},{\"id\":\"1580\",\"type\":\"LinearAxis\"},{\"id\":\"1584\",\"type\":\"Grid\"},{\"id\":\"1593\",\"type\":\"BoxAnnotation\"},{\"id\":\"1602\",\"type\":\"GlyphRenderer\"},{\"id\":\"1607\",\"type\":\"GlyphRenderer\"},{\"id\":\"1613\",\"type\":\"GlyphRenderer\"},{\"id\":\"1618\",\"type\":\"GlyphRenderer\"}],\"title\":{\"id\":\"1564\",\"type\":\"Title\"},\"toolbar\":{\"id\":\"1590\",\"type\":\"Toolbar\"},\"x_range\":{\"id\":\"1567\",\"type\":\"DataRange1d\"},\"x_scale\":{\"id\":\"1571\",\"type\":\"LinearScale\"},\"y_range\":{\"id\":\"1569\",\"type\":\"DataRange1d\"},\"y_scale\":{\"id\":\"1573\",\"type\":\"LinearScale\"}},\"id\":\"1565\",\"subtype\":\"Figure\",\"type\":\"Plot\"},{\"attributes\":{},\"id\":\"1666\",\"type\":\"Selection\"},{\"attributes\":{},\"id\":\"1670\",\"type\":\"Selection\"},{\"attributes\":{\"overlay\":{\"id\":\"1593\",\"type\":\"BoxAnnotation\"}},\"id\":\"1588\",\"type\":\"BoxZoomTool\"},{\"attributes\":{\"callback\":null,\"data\":{\"conc_inib\":{\"__ndarray__\":\"AAAAAAAA8D8AAAAAAAD4fwAAAAAAAPh/AAAAAAAA+H8AAAAAAAD4fwAAAAAAAPh/\",\"dtype\":\"float64\",\"shape\":[6]},\"index\":[0,1,2,3,4,5],\"s\":{\"__ndarray__\":\"AAAAAAAAAEAAAAAAAADwPzMzMzMzM+M/mpmZmZmZ2T9KDAIrhxbRP5qZmZmZmck/\",\"dtype\":\"float64\",\"shape\":[6]},\"s/v_inib\":{\"__ndarray__\":\"u+iiiy66ZkByHMdxHMdbQAAAAAAAAFlAj+M4juM4VkDQusEU+YxWQPU8z/M8z1dA\",\"dtype\":\"float64\",\"shape\":[6]},\"s/v_norm\":{\"__ndarray__\":\"s5jOYjqLUUAa60NjfWhEQBLaS2gvoT1APvjggw8+OEDyVvY5pCY0QC+66KKLLjJA\",\"dtype\":\"float64\",\"shape\":[6]},\"v_inib\":{\"__ndarray__\":\"ukkMAiuHhj8730+Nl26CP/p+arx0k3g/O99PjZducj9W8UbmkT9oPxWMSuoENGE/\",\"dtype\":\"float64\",\"shape\":[6]},\"v_norm\":{\"__ndarray__\":\"yXa+nxovnT9KDAIrhxaZPyPb+X5qvJQ/TDeJQWDlkD+JQWDl0CKLP7pJDAIrh4Y/\",\"dtype\":\"float64\",\"shape\":[6]}},\"selected\":{\"id\":\"1664\",\"type\":\"Selection\"},\"selection_policy\":{\"id\":\"1663\",\"type\":\"UnionRenderers\"}},\"id\":\"1598\",\"type\":\"ColumnDataSource\"},{\"attributes\":{\"active_drag\":\"auto\",\"active_inspect\":\"auto\",\"active_multi\":null,\"active_scroll\":\"auto\",\"active_tap\":\"auto\",\"tools\":[{\"id\":\"1585\",\"type\":\"WheelZoomTool\"},{\"id\":\"1586\",\"type\":\"ResetTool\"},{\"id\":\"1587\",\"type\":\"PanTool\"},{\"id\":\"1588\",\"type\":\"BoxZoomTool\"},{\"id\":\"1589\",\"type\":\"HoverTool\"}]},\"id\":\"1590\",\"type\":\"Toolbar\"},{\"attributes\":{\"source\":{\"id\":\"1609\",\"type\":\"ColumnDataSource\"}},\"id\":\"1614\",\"type\":\"CDSView\"},{\"attributes\":{\"callback\":null,\"data\":{\"conc_inib\":{\"__ndarray__\":\"AAAAAAAA8D8AAAAAAAD4fwAAAAAAAPh/AAAAAAAA+H8AAAAAAAD4fwAAAAAAAPh/\",\"dtype\":\"float64\",\"shape\":[6]},\"index\":[0,1,2,3,4,5],\"s\":{\"__ndarray__\":\"AAAAAAAAAEAAAAAAAADwPzMzMzMzM+M/mpmZmZmZ2T9KDAIrhxbRP5qZmZmZmck/\",\"dtype\":\"float64\",\"shape\":[6]},\"s/v_inib\":{\"__ndarray__\":\"u+iiiy66ZkByHMdxHMdbQAAAAAAAAFlAj+M4juM4VkDQusEU+YxWQPU8z/M8z1dA\",\"dtype\":\"float64\",\"shape\":[6]},\"s/v_norm\":{\"__ndarray__\":\"s5jOYjqLUUAa60NjfWhEQBLaS2gvoT1APvjggw8+OEDyVvY5pCY0QC+66KKLLjJA\",\"dtype\":\"float64\",\"shape\":[6]},\"v_inib\":{\"__ndarray__\":\"ukkMAiuHhj8730+Nl26CP/p+arx0k3g/O99PjZducj9W8UbmkT9oPxWMSuoENGE/\",\"dtype\":\"float64\",\"shape\":[6]},\"v_norm\":{\"__ndarray__\":\"yXa+nxovnT9KDAIrhxaZPyPb+X5qvJQ/TDeJQWDlkD+JQWDl0CKLP7pJDAIrh4Y/\",\"dtype\":\"float64\",\"shape\":[6]}},\"selected\":{\"id\":\"1668\",\"type\":\"Selection\"},\"selection_policy\":{\"id\":\"1667\",\"type\":\"UnionRenderers\"}},\"id\":\"1609\",\"type\":\"ColumnDataSource\"},{\"attributes\":{\"plot\":null,\"text\":\"Linearizzazione di Lineweaver-Burk\"},\"id\":\"1564\",\"type\":\"Title\"},{\"attributes\":{},\"id\":\"1667\",\"type\":\"UnionRenderers\"},{\"attributes\":{\"bottom_units\":\"screen\",\"fill_alpha\":{\"value\":0.5},\"fill_color\":{\"value\":\"lightgrey\"},\"left_units\":\"screen\",\"level\":\"overlay\",\"line_alpha\":{\"value\":1.0},\"line_color\":{\"value\":\"black\"},\"line_dash\":[4,4],\"line_width\":{\"value\":2},\"plot\":null,\"render_mode\":\"css\",\"right_units\":\"screen\",\"top_units\":\"screen\"},\"id\":\"1593\",\"type\":\"BoxAnnotation\"},{\"attributes\":{\"callback\":null},\"id\":\"1567\",\"type\":\"DataRange1d\"},{\"attributes\":{\"fill_color\":{\"value\":\"#1f77b4\"},\"line_color\":{\"value\":\"#1f77b4\"},\"x\":{\"field\":\"s\"},\"y\":{\"field\":\"s/v_norm\"}},\"id\":\"1600\",\"type\":\"Circle\"},{\"attributes\":{\"callback\":null},\"id\":\"1569\",\"type\":\"DataRange1d\"},{\"attributes\":{\"data_source\":{\"id\":\"1609\",\"type\":\"ColumnDataSource\"},\"glyph\":{\"id\":\"1611\",\"type\":\"Square\"},\"hover_glyph\":null,\"muted_glyph\":null,\"nonselection_glyph\":{\"id\":\"1612\",\"type\":\"Square\"},\"selection_glyph\":null,\"view\":{\"id\":\"1614\",\"type\":\"CDSView\"}},\"id\":\"1613\",\"type\":\"GlyphRenderer\"},{\"attributes\":{},\"id\":\"1571\",\"type\":\"LinearScale\"},{\"attributes\":{\"fill_alpha\":{\"value\":0.1},\"fill_color\":{\"value\":\"#1f77b4\"},\"line_alpha\":{\"value\":0.1},\"line_color\":{\"value\":\"#1f77b4\"},\"x\":{\"field\":\"s\"},\"y\":{\"field\":\"s/v_inib\"}},\"id\":\"1612\",\"type\":\"Square\"},{\"attributes\":{},\"id\":\"1573\",\"type\":\"LinearScale\"},{\"attributes\":{\"fill_color\":{\"value\":\"#1f77b4\"},\"line_color\":{\"value\":\"#1f77b4\"},\"x\":{\"field\":\"s\"},\"y\":{\"field\":\"s/v_inib\"}},\"id\":\"1611\",\"type\":\"Square\"},{\"attributes\":{\"axis_label\":\"s\",\"formatter\":{\"id\":\"1659\",\"type\":\"BasicTickFormatter\"},\"plot\":{\"id\":\"1565\",\"subtype\":\"Figure\",\"type\":\"Plot\"},\"ticker\":{\"id\":\"1576\",\"type\":\"BasicTicker\"}},\"id\":\"1575\",\"type\":\"LinearAxis\"},{\"attributes\":{},\"id\":\"1665\",\"type\":\"UnionRenderers\"},{\"attributes\":{},\"id\":\"1576\",\"type\":\"BasicTicker\"},{\"attributes\":{\"callback\":null,\"data\":{\"x\":{\"__ndarray__\":\"AAAAAAAACMAAAAAAAAAAQA==\",\"dtype\":\"float64\",\"shape\":[2]},\"y\":{\"__ndarray__\":\"AqqdOmuQU8CxaDEikNdlQA==\",\"dtype\":\"float64\",\"shape\":[2]}},\"selected\":{\"id\":\"1670\",\"type\":\"Selection\"},\"selection_policy\":{\"id\":\"1669\",\"type\":\"UnionRenderers\"}},\"id\":\"1615\",\"type\":\"ColumnDataSource\"},{\"attributes\":{\"source\":{\"id\":\"1598\",\"type\":\"ColumnDataSource\"}},\"id\":\"1603\",\"type\":\"CDSView\"},{\"attributes\":{\"line_color\":\"red\",\"x\":{\"field\":\"x\"},\"y\":{\"field\":\"y\"}},\"id\":\"1616\",\"type\":\"Line\"},{\"attributes\":{\"plot\":{\"id\":\"1565\",\"subtype\":\"Figure\",\"type\":\"Plot\"},\"ticker\":{\"id\":\"1576\",\"type\":\"BasicTicker\"}},\"id\":\"1579\",\"type\":\"Grid\"},{\"attributes\":{\"data_source\":{\"id\":\"1598\",\"type\":\"ColumnDataSource\"},\"glyph\":{\"id\":\"1600\",\"type\":\"Circle\"},\"hover_glyph\":null,\"muted_glyph\":null,\"nonselection_glyph\":{\"id\":\"1601\",\"type\":\"Circle\"},\"selection_glyph\":null,\"view\":{\"id\":\"1603\",\"type\":\"CDSView\"}},\"id\":\"1602\",\"type\":\"GlyphRenderer\"},{\"attributes\":{\"line_alpha\":0.1,\"line_color\":\"#1f77b4\",\"x\":{\"field\":\"x\"},\"y\":{\"field\":\"y\"}},\"id\":\"1617\",\"type\":\"Line\"},{\"attributes\":{},\"id\":\"1661\",\"type\":\"BasicTickFormatter\"},{\"attributes\":{\"axis_label\":\"s/v\",\"formatter\":{\"id\":\"1661\",\"type\":\"BasicTickFormatter\"},\"plot\":{\"id\":\"1565\",\"subtype\":\"Figure\",\"type\":\"Plot\"},\"ticker\":{\"id\":\"1581\",\"type\":\"BasicTicker\"}},\"id\":\"1580\",\"type\":\"LinearAxis\"},{\"attributes\":{\"fill_alpha\":{\"value\":0.1},\"fill_color\":{\"value\":\"#1f77b4\"},\"line_alpha\":{\"value\":0.1},\"line_color\":{\"value\":\"#1f77b4\"},\"x\":{\"field\":\"s\"},\"y\":{\"field\":\"s/v_norm\"}},\"id\":\"1601\",\"type\":\"Circle\"},{\"attributes\":{\"data_source\":{\"id\":\"1615\",\"type\":\"ColumnDataSource\"},\"glyph\":{\"id\":\"1616\",\"type\":\"Line\"},\"hover_glyph\":null,\"muted_glyph\":null,\"nonselection_glyph\":{\"id\":\"1617\",\"type\":\"Line\"},\"selection_glyph\":null,\"view\":{\"id\":\"1619\",\"type\":\"CDSView\"}},\"id\":\"1618\",\"type\":\"GlyphRenderer\"},{\"attributes\":{},\"id\":\"1581\",\"type\":\"BasicTicker\"},{\"attributes\":{\"source\":{\"id\":\"1615\",\"type\":\"ColumnDataSource\"}},\"id\":\"1619\",\"type\":\"CDSView\"},{\"attributes\":{},\"id\":\"1663\",\"type\":\"UnionRenderers\"},{\"attributes\":{\"dimension\":1,\"plot\":{\"id\":\"1565\",\"subtype\":\"Figure\",\"type\":\"Plot\"},\"ticker\":{\"id\":\"1581\",\"type\":\"BasicTicker\"}},\"id\":\"1584\",\"type\":\"Grid\"},{\"attributes\":{\"line_color\":\"green\",\"x\":{\"field\":\"x\"},\"y\":{\"field\":\"y\"}},\"id\":\"1605\",\"type\":\"Line\"},{\"attributes\":{},\"id\":\"1659\",\"type\":\"BasicTickFormatter\"},{\"attributes\":{\"callback\":null,\"data\":{\"x\":{\"__ndarray__\":\"AAAAAAAACMAAAAAAAAAAQA==\",\"dtype\":\"float64\",\"shape\":[2]},\"y\":{\"__ndarray__\":\"oSakuhF8UsB6XhiIxoBRQA==\",\"dtype\":\"float64\",\"shape\":[2]}},\"selected\":{\"id\":\"1666\",\"type\":\"Selection\"},\"selection_policy\":{\"id\":\"1665\",\"type\":\"UnionRenderers\"}},\"id\":\"1604\",\"type\":\"ColumnDataSource\"},{\"attributes\":{},\"id\":\"1664\",\"type\":\"Selection\"},{\"attributes\":{\"line_alpha\":0.1,\"line_color\":\"#1f77b4\",\"x\":{\"field\":\"x\"},\"y\":{\"field\":\"y\"}},\"id\":\"1606\",\"type\":\"Line\"},{\"attributes\":{\"callback\":null,\"tooltips\":[[\"substrate\",\"@s\"],[\"velocity\",\"@v\"]]},\"id\":\"1589\",\"type\":\"HoverTool\"},{\"attributes\":{},\"id\":\"1585\",\"type\":\"WheelZoomTool\"},{\"attributes\":{\"data_source\":{\"id\":\"1604\",\"type\":\"ColumnDataSource\"},\"glyph\":{\"id\":\"1605\",\"type\":\"Line\"},\"hover_glyph\":null,\"muted_glyph\":null,\"nonselection_glyph\":{\"id\":\"1606\",\"type\":\"Line\"},\"selection_glyph\":null,\"view\":{\"id\":\"1608\",\"type\":\"CDSView\"}},\"id\":\"1607\",\"type\":\"GlyphRenderer\"},{\"attributes\":{},\"id\":\"1668\",\"type\":\"Selection\"},{\"attributes\":{},\"id\":\"1586\",\"type\":\"ResetTool\"},{\"attributes\":{\"source\":{\"id\":\"1604\",\"type\":\"ColumnDataSource\"}},\"id\":\"1608\",\"type\":\"CDSView\"},{\"attributes\":{},\"id\":\"1669\",\"type\":\"UnionRenderers\"},{\"attributes\":{},\"id\":\"1587\",\"type\":\"PanTool\"}],\"root_ids\":[\"1565\"]},\"title\":\"Bokeh Application\",\"version\":\"1.0.2\"}};\n",
       "  var render_items = [{\"docid\":\"527c3552-47e5-4158-8ecb-9282293f3094\",\"roots\":{\"1565\":\"5cab8ab1-d4da-4a6d-af98-a6114b0d29b2\"}}];\n",
       "  root.Bokeh.embed.embed_items_notebook(docs_json, render_items);\n",
       "\n",
       "  }\n",
       "  if (root.Bokeh !== undefined) {\n",
       "    embed_document(root);\n",
       "  } else {\n",
       "    var attempts = 0;\n",
       "    var timer = setInterval(function(root) {\n",
       "      if (root.Bokeh !== undefined) {\n",
       "        embed_document(root);\n",
       "        clearInterval(timer);\n",
       "      }\n",
       "      attempts++;\n",
       "      if (attempts > 100) {\n",
       "        console.log(\"Bokeh: ERROR: Unable to run BokehJS code because BokehJS library is missing\");\n",
       "        clearInterval(timer);\n",
       "      }\n",
       "    }, 10, root)\n",
       "  }\n",
       "})(window);"
      ],
      "application/vnd.bokehjs_exec.v0+json": ""
     },
     "metadata": {
      "application/vnd.bokehjs_exec.v0+json": {
       "id": "1565"
      }
     },
     "output_type": "display_data"
    }
   ],
   "source": [
    "#faccio un grafico con le 2 rette per capire il tipo di inibizione\n",
    "p1 = figure(title = 'Linearizzazione di Lineweaver-Burk',\n",
    "            x_axis_label= 's', \n",
    "            y_axis_label= 's/v',\n",
    "            **param,\n",
    "            )\n",
    "p1.circle( 's', 's/v_norm', source=df )\n",
    "xmax = df['s'].max() \n",
    "x = array( [-3, xmax] )       \n",
    "y = x * slope_norm + intercept_norm \n",
    "p1.line( x, y, color='green')\n",
    "\n",
    "p1.square( 's', 's/v_inib', source=df)\n",
    "     \n",
    "y = x * slope_inib + intercept_inib \n",
    "p1.line( x, y, color='red')\n",
    "show( p1 )"
   ]
  },
  {
   "cell_type": "code",
   "execution_count": 19,
   "metadata": {},
   "outputs": [
    {
     "data": {
      "text/html": [
       "\n",
       "\n",
       "\n",
       "\n",
       "\n",
       "\n",
       "  <div class=\"bk-root\" id=\"47688f41-ec44-4e65-a200-3e2596833429\"></div>\n"
      ]
     },
     "metadata": {},
     "output_type": "display_data"
    },
    {
     "data": {
      "application/javascript": [
       "(function(root) {\n",
       "  function embed_document(root) {\n",
       "    \n",
       "  var docs_json = {\"fb5e1998-68bc-4841-84f7-c94cded151a2\":{\"roots\":{\"references\":[{\"attributes\":{\"below\":[{\"id\":\"1575\",\"type\":\"LinearAxis\"}],\"left\":[{\"id\":\"1580\",\"type\":\"LinearAxis\"}],\"plot_height\":250,\"plot_width\":700,\"renderers\":[{\"id\":\"1575\",\"type\":\"LinearAxis\"},{\"id\":\"1579\",\"type\":\"Grid\"},{\"id\":\"1580\",\"type\":\"LinearAxis\"},{\"id\":\"1584\",\"type\":\"Grid\"},{\"id\":\"1593\",\"type\":\"BoxAnnotation\"},{\"id\":\"1602\",\"type\":\"GlyphRenderer\"},{\"id\":\"1607\",\"type\":\"GlyphRenderer\"},{\"id\":\"1613\",\"type\":\"GlyphRenderer\"},{\"id\":\"1618\",\"type\":\"GlyphRenderer\"},{\"id\":\"1759\",\"type\":\"GlyphRenderer\"}],\"title\":{\"id\":\"1564\",\"type\":\"Title\"},\"toolbar\":{\"id\":\"1590\",\"type\":\"Toolbar\"},\"x_range\":{\"id\":\"1567\",\"type\":\"DataRange1d\"},\"x_scale\":{\"id\":\"1571\",\"type\":\"LinearScale\"},\"y_range\":{\"id\":\"1569\",\"type\":\"DataRange1d\"},\"y_scale\":{\"id\":\"1573\",\"type\":\"LinearScale\"}},\"id\":\"1565\",\"subtype\":\"Figure\",\"type\":\"Plot\"},{\"attributes\":{},\"id\":\"1666\",\"type\":\"Selection\"},{\"attributes\":{},\"id\":\"1813\",\"type\":\"Selection\"},{\"attributes\":{},\"id\":\"1670\",\"type\":\"Selection\"},{\"attributes\":{\"overlay\":{\"id\":\"1593\",\"type\":\"BoxAnnotation\"}},\"id\":\"1588\",\"type\":\"BoxZoomTool\"},{\"attributes\":{\"callback\":null,\"data\":{\"conc_inib\":{\"__ndarray__\":\"AAAAAAAA8D8AAAAAAAD4fwAAAAAAAPh/AAAAAAAA+H8AAAAAAAD4fwAAAAAAAPh/\",\"dtype\":\"float64\",\"shape\":[6]},\"index\":[0,1,2,3,4,5],\"s\":{\"__ndarray__\":\"AAAAAAAAAEAAAAAAAADwPzMzMzMzM+M/mpmZmZmZ2T9KDAIrhxbRP5qZmZmZmck/\",\"dtype\":\"float64\",\"shape\":[6]},\"s/v_inib\":{\"__ndarray__\":\"u+iiiy66ZkByHMdxHMdbQAAAAAAAAFlAj+M4juM4VkDQusEU+YxWQPU8z/M8z1dA\",\"dtype\":\"float64\",\"shape\":[6]},\"s/v_norm\":{\"__ndarray__\":\"s5jOYjqLUUAa60NjfWhEQBLaS2gvoT1APvjggw8+OEDyVvY5pCY0QC+66KKLLjJA\",\"dtype\":\"float64\",\"shape\":[6]},\"v_inib\":{\"__ndarray__\":\"ukkMAiuHhj8730+Nl26CP/p+arx0k3g/O99PjZducj9W8UbmkT9oPxWMSuoENGE/\",\"dtype\":\"float64\",\"shape\":[6]},\"v_norm\":{\"__ndarray__\":\"yXa+nxovnT9KDAIrhxaZPyPb+X5qvJQ/TDeJQWDlkD+JQWDl0CKLP7pJDAIrh4Y/\",\"dtype\":\"float64\",\"shape\":[6]}},\"selected\":{\"id\":\"1664\",\"type\":\"Selection\"},\"selection_policy\":{\"id\":\"1663\",\"type\":\"UnionRenderers\"}},\"id\":\"1598\",\"type\":\"ColumnDataSource\"},{\"attributes\":{\"active_drag\":\"auto\",\"active_inspect\":\"auto\",\"active_multi\":null,\"active_scroll\":\"auto\",\"active_tap\":\"auto\",\"tools\":[{\"id\":\"1585\",\"type\":\"WheelZoomTool\"},{\"id\":\"1586\",\"type\":\"ResetTool\"},{\"id\":\"1587\",\"type\":\"PanTool\"},{\"id\":\"1588\",\"type\":\"BoxZoomTool\"},{\"id\":\"1589\",\"type\":\"HoverTool\"}]},\"id\":\"1590\",\"type\":\"Toolbar\"},{\"attributes\":{\"source\":{\"id\":\"1609\",\"type\":\"ColumnDataSource\"}},\"id\":\"1614\",\"type\":\"CDSView\"},{\"attributes\":{\"callback\":null,\"data\":{\"conc_inib\":{\"__ndarray__\":\"AAAAAAAA8D8AAAAAAAD4fwAAAAAAAPh/AAAAAAAA+H8AAAAAAAD4fwAAAAAAAPh/\",\"dtype\":\"float64\",\"shape\":[6]},\"index\":[0,1,2,3,4,5],\"s\":{\"__ndarray__\":\"AAAAAAAAAEAAAAAAAADwPzMzMzMzM+M/mpmZmZmZ2T9KDAIrhxbRP5qZmZmZmck/\",\"dtype\":\"float64\",\"shape\":[6]},\"s/v_inib\":{\"__ndarray__\":\"u+iiiy66ZkByHMdxHMdbQAAAAAAAAFlAj+M4juM4VkDQusEU+YxWQPU8z/M8z1dA\",\"dtype\":\"float64\",\"shape\":[6]},\"s/v_norm\":{\"__ndarray__\":\"s5jOYjqLUUAa60NjfWhEQBLaS2gvoT1APvjggw8+OEDyVvY5pCY0QC+66KKLLjJA\",\"dtype\":\"float64\",\"shape\":[6]},\"v_inib\":{\"__ndarray__\":\"ukkMAiuHhj8730+Nl26CP/p+arx0k3g/O99PjZducj9W8UbmkT9oPxWMSuoENGE/\",\"dtype\":\"float64\",\"shape\":[6]},\"v_norm\":{\"__ndarray__\":\"yXa+nxovnT9KDAIrhxaZPyPb+X5qvJQ/TDeJQWDlkD+JQWDl0CKLP7pJDAIrh4Y/\",\"dtype\":\"float64\",\"shape\":[6]}},\"selected\":{\"id\":\"1668\",\"type\":\"Selection\"},\"selection_policy\":{\"id\":\"1667\",\"type\":\"UnionRenderers\"}},\"id\":\"1609\",\"type\":\"ColumnDataSource\"},{\"attributes\":{\"plot\":null,\"text\":\"Linearizzazione di Lineweaver-Burk\"},\"id\":\"1564\",\"type\":\"Title\"},{\"attributes\":{},\"id\":\"1812\",\"type\":\"UnionRenderers\"},{\"attributes\":{},\"id\":\"1667\",\"type\":\"UnionRenderers\"},{\"attributes\":{\"bottom_units\":\"screen\",\"fill_alpha\":{\"value\":0.5},\"fill_color\":{\"value\":\"lightgrey\"},\"left_units\":\"screen\",\"level\":\"overlay\",\"line_alpha\":{\"value\":1.0},\"line_color\":{\"value\":\"black\"},\"line_dash\":[4,4],\"line_width\":{\"value\":2},\"plot\":null,\"render_mode\":\"css\",\"right_units\":\"screen\",\"top_units\":\"screen\"},\"id\":\"1593\",\"type\":\"BoxAnnotation\"},{\"attributes\":{\"callback\":null},\"id\":\"1567\",\"type\":\"DataRange1d\"},{\"attributes\":{\"fill_color\":{\"value\":\"#1f77b4\"},\"line_color\":{\"value\":\"#1f77b4\"},\"x\":{\"field\":\"s\"},\"y\":{\"field\":\"s/v_norm\"}},\"id\":\"1600\",\"type\":\"Circle\"},{\"attributes\":{\"callback\":null},\"id\":\"1569\",\"type\":\"DataRange1d\"},{\"attributes\":{\"data_source\":{\"id\":\"1609\",\"type\":\"ColumnDataSource\"},\"glyph\":{\"id\":\"1611\",\"type\":\"Square\"},\"hover_glyph\":null,\"muted_glyph\":null,\"nonselection_glyph\":{\"id\":\"1612\",\"type\":\"Square\"},\"selection_glyph\":null,\"view\":{\"id\":\"1614\",\"type\":\"CDSView\"}},\"id\":\"1613\",\"type\":\"GlyphRenderer\"},{\"attributes\":{},\"id\":\"1571\",\"type\":\"LinearScale\"},{\"attributes\":{\"fill_alpha\":{\"value\":0.1},\"fill_color\":{\"value\":\"#1f77b4\"},\"line_alpha\":{\"value\":0.1},\"line_color\":{\"value\":\"#1f77b4\"},\"x\":{\"field\":\"s\"},\"y\":{\"field\":\"s/v_inib\"}},\"id\":\"1612\",\"type\":\"Square\"},{\"attributes\":{\"callback\":null,\"data\":{},\"selected\":{\"id\":\"1813\",\"type\":\"Selection\"},\"selection_policy\":{\"id\":\"1812\",\"type\":\"UnionRenderers\"}},\"id\":\"1756\",\"type\":\"ColumnDataSource\"},{\"attributes\":{},\"id\":\"1573\",\"type\":\"LinearScale\"},{\"attributes\":{\"fill_color\":{\"value\":\"#1f77b4\"},\"line_color\":{\"value\":\"#1f77b4\"},\"x\":{\"field\":\"s\"},\"y\":{\"field\":\"s/v_inib\"}},\"id\":\"1611\",\"type\":\"Square\"},{\"attributes\":{\"axis_label\":\"s\",\"formatter\":{\"id\":\"1659\",\"type\":\"BasicTickFormatter\"},\"plot\":{\"id\":\"1565\",\"subtype\":\"Figure\",\"type\":\"Plot\"},\"ticker\":{\"id\":\"1576\",\"type\":\"BasicTicker\"}},\"id\":\"1575\",\"type\":\"LinearAxis\"},{\"attributes\":{},\"id\":\"1665\",\"type\":\"UnionRenderers\"},{\"attributes\":{},\"id\":\"1576\",\"type\":\"BasicTicker\"},{\"attributes\":{\"callback\":null,\"data\":{\"x\":{\"__ndarray__\":\"AAAAAAAACMAAAAAAAAAAQA==\",\"dtype\":\"float64\",\"shape\":[2]},\"y\":{\"__ndarray__\":\"AqqdOmuQU8CxaDEikNdlQA==\",\"dtype\":\"float64\",\"shape\":[2]}},\"selected\":{\"id\":\"1670\",\"type\":\"Selection\"},\"selection_policy\":{\"id\":\"1669\",\"type\":\"UnionRenderers\"}},\"id\":\"1615\",\"type\":\"ColumnDataSource\"},{\"attributes\":{\"source\":{\"id\":\"1598\",\"type\":\"ColumnDataSource\"}},\"id\":\"1603\",\"type\":\"CDSView\"},{\"attributes\":{\"line_color\":\"red\",\"x\":{\"field\":\"x\"},\"y\":{\"field\":\"y\"}},\"id\":\"1616\",\"type\":\"Line\"},{\"attributes\":{\"data_source\":{\"id\":\"1756\",\"type\":\"ColumnDataSource\"},\"glyph\":{\"id\":\"1757\",\"type\":\"Triangle\"},\"hover_glyph\":null,\"muted_glyph\":null,\"nonselection_glyph\":{\"id\":\"1758\",\"type\":\"Triangle\"},\"selection_glyph\":null,\"view\":{\"id\":\"1760\",\"type\":\"CDSView\"}},\"id\":\"1759\",\"type\":\"GlyphRenderer\"},{\"attributes\":{\"plot\":{\"id\":\"1565\",\"subtype\":\"Figure\",\"type\":\"Plot\"},\"ticker\":{\"id\":\"1576\",\"type\":\"BasicTicker\"}},\"id\":\"1579\",\"type\":\"Grid\"},{\"attributes\":{\"data_source\":{\"id\":\"1598\",\"type\":\"ColumnDataSource\"},\"glyph\":{\"id\":\"1600\",\"type\":\"Circle\"},\"hover_glyph\":null,\"muted_glyph\":null,\"nonselection_glyph\":{\"id\":\"1601\",\"type\":\"Circle\"},\"selection_glyph\":null,\"view\":{\"id\":\"1603\",\"type\":\"CDSView\"}},\"id\":\"1602\",\"type\":\"GlyphRenderer\"},{\"attributes\":{\"line_alpha\":0.1,\"line_color\":\"#1f77b4\",\"x\":{\"field\":\"x\"},\"y\":{\"field\":\"y\"}},\"id\":\"1617\",\"type\":\"Line\"},{\"attributes\":{},\"id\":\"1661\",\"type\":\"BasicTickFormatter\"},{\"attributes\":{\"axis_label\":\"s/v\",\"formatter\":{\"id\":\"1661\",\"type\":\"BasicTickFormatter\"},\"plot\":{\"id\":\"1565\",\"subtype\":\"Figure\",\"type\":\"Plot\"},\"ticker\":{\"id\":\"1581\",\"type\":\"BasicTicker\"}},\"id\":\"1580\",\"type\":\"LinearAxis\"},{\"attributes\":{\"fill_alpha\":{\"value\":0.1},\"fill_color\":{\"value\":\"#1f77b4\"},\"line_alpha\":{\"value\":0.1},\"line_color\":{\"value\":\"#1f77b4\"},\"x\":{\"field\":\"s\"},\"y\":{\"field\":\"s/v_norm\"}},\"id\":\"1601\",\"type\":\"Circle\"},{\"attributes\":{\"data_source\":{\"id\":\"1615\",\"type\":\"ColumnDataSource\"},\"glyph\":{\"id\":\"1616\",\"type\":\"Line\"},\"hover_glyph\":null,\"muted_glyph\":null,\"nonselection_glyph\":{\"id\":\"1617\",\"type\":\"Line\"},\"selection_glyph\":null,\"view\":{\"id\":\"1619\",\"type\":\"CDSView\"}},\"id\":\"1618\",\"type\":\"GlyphRenderer\"},{\"attributes\":{\"fill_alpha\":{\"value\":0.1},\"fill_color\":{\"value\":\"#1f77b4\"},\"line_alpha\":{\"value\":0.1},\"line_color\":{\"value\":\"#1f77b4\"},\"x\":{\"value\":-2.8020049554281625},\"y\":{\"value\":-68.23827706346349}},\"id\":\"1758\",\"type\":\"Triangle\"},{\"attributes\":{},\"id\":\"1581\",\"type\":\"BasicTicker\"},{\"attributes\":{\"fill_color\":{\"value\":\"black\"},\"x\":{\"value\":-2.8020049554281625},\"y\":{\"value\":-68.23827706346349}},\"id\":\"1757\",\"type\":\"Triangle\"},{\"attributes\":{\"source\":{\"id\":\"1615\",\"type\":\"ColumnDataSource\"}},\"id\":\"1619\",\"type\":\"CDSView\"},{\"attributes\":{},\"id\":\"1663\",\"type\":\"UnionRenderers\"},{\"attributes\":{\"dimension\":1,\"plot\":{\"id\":\"1565\",\"subtype\":\"Figure\",\"type\":\"Plot\"},\"ticker\":{\"id\":\"1581\",\"type\":\"BasicTicker\"}},\"id\":\"1584\",\"type\":\"Grid\"},{\"attributes\":{\"source\":{\"id\":\"1756\",\"type\":\"ColumnDataSource\"}},\"id\":\"1760\",\"type\":\"CDSView\"},{\"attributes\":{\"line_color\":\"green\",\"x\":{\"field\":\"x\"},\"y\":{\"field\":\"y\"}},\"id\":\"1605\",\"type\":\"Line\"},{\"attributes\":{},\"id\":\"1659\",\"type\":\"BasicTickFormatter\"},{\"attributes\":{\"callback\":null,\"data\":{\"x\":{\"__ndarray__\":\"AAAAAAAACMAAAAAAAAAAQA==\",\"dtype\":\"float64\",\"shape\":[2]},\"y\":{\"__ndarray__\":\"oSakuhF8UsB6XhiIxoBRQA==\",\"dtype\":\"float64\",\"shape\":[2]}},\"selected\":{\"id\":\"1666\",\"type\":\"Selection\"},\"selection_policy\":{\"id\":\"1665\",\"type\":\"UnionRenderers\"}},\"id\":\"1604\",\"type\":\"ColumnDataSource\"},{\"attributes\":{},\"id\":\"1664\",\"type\":\"Selection\"},{\"attributes\":{\"line_alpha\":0.1,\"line_color\":\"#1f77b4\",\"x\":{\"field\":\"x\"},\"y\":{\"field\":\"y\"}},\"id\":\"1606\",\"type\":\"Line\"},{\"attributes\":{\"callback\":null,\"tooltips\":[[\"substrate\",\"@s\"],[\"velocity\",\"@v\"]]},\"id\":\"1589\",\"type\":\"HoverTool\"},{\"attributes\":{},\"id\":\"1585\",\"type\":\"WheelZoomTool\"},{\"attributes\":{\"data_source\":{\"id\":\"1604\",\"type\":\"ColumnDataSource\"},\"glyph\":{\"id\":\"1605\",\"type\":\"Line\"},\"hover_glyph\":null,\"muted_glyph\":null,\"nonselection_glyph\":{\"id\":\"1606\",\"type\":\"Line\"},\"selection_glyph\":null,\"view\":{\"id\":\"1608\",\"type\":\"CDSView\"}},\"id\":\"1607\",\"type\":\"GlyphRenderer\"},{\"attributes\":{},\"id\":\"1668\",\"type\":\"Selection\"},{\"attributes\":{},\"id\":\"1586\",\"type\":\"ResetTool\"},{\"attributes\":{\"source\":{\"id\":\"1604\",\"type\":\"ColumnDataSource\"}},\"id\":\"1608\",\"type\":\"CDSView\"},{\"attributes\":{},\"id\":\"1669\",\"type\":\"UnionRenderers\"},{\"attributes\":{},\"id\":\"1587\",\"type\":\"PanTool\"}],\"root_ids\":[\"1565\"]},\"title\":\"Bokeh Application\",\"version\":\"1.0.2\"}};\n",
       "  var render_items = [{\"docid\":\"fb5e1998-68bc-4841-84f7-c94cded151a2\",\"roots\":{\"1565\":\"47688f41-ec44-4e65-a200-3e2596833429\"}}];\n",
       "  root.Bokeh.embed.embed_items_notebook(docs_json, render_items);\n",
       "\n",
       "  }\n",
       "  if (root.Bokeh !== undefined) {\n",
       "    embed_document(root);\n",
       "  } else {\n",
       "    var attempts = 0;\n",
       "    var timer = setInterval(function(root) {\n",
       "      if (root.Bokeh !== undefined) {\n",
       "        embed_document(root);\n",
       "        clearInterval(timer);\n",
       "      }\n",
       "      attempts++;\n",
       "      if (attempts > 100) {\n",
       "        console.log(\"Bokeh: ERROR: Unable to run BokehJS code because BokehJS library is missing\");\n",
       "        clearInterval(timer);\n",
       "      }\n",
       "    }, 10, root)\n",
       "  }\n",
       "})(window);"
      ],
      "application/vnd.bokehjs_exec.v0+json": ""
     },
     "metadata": {
      "application/vnd.bokehjs_exec.v0+json": {
       "id": "1565"
      }
     },
     "output_type": "display_data"
    },
    {
     "name": "stdout",
     "output_type": "stream",
     "text": [
      "The intersection of the 2 lines is at:(-2.8020049554281625,-68.23827706346349), the black dot stands for the interception point of the 2 lines.\n"
     ]
    }
   ],
   "source": [
    "#calcolo il punto di incontro delle rette, fondamentale per definire il tipo di inibizione\n",
    "slope_x= slope_norm-slope_inib\n",
    "\n",
    "intercept_x= -intercept_norm+intercept_inib\n",
    "intersec_x=intercept_x/slope_x\n",
    "intersec_x\n",
    "intersec_y= slope_norm*intersec_x+intercept_norm\n",
    "intersec_y\n",
    "\n",
    "p1.triangle( intersec_x, intersec_y, color='black')\n",
    "\n",
    "show( p1 )\n",
    "print(\"The intersection of the 2 lines is at:(\" +str(intersec_x)+ ','+str(intersec_y)+'), the black dot stands for the interception point of the 2 lines.')\n"
   ]
  },
  {
   "cell_type": "code",
   "execution_count": 11,
   "metadata": {},
   "outputs": [],
   "source": [
    "#linearizzazione hanes\n",
    "\n",
    "\n",
    "# s/v = s * (1/Vmax) + Km/Vmax\n",
    "#equazione di una retta y=mx+n\n",
    "\n",
    "#Dove \ts/v = y\n",
    "#\ts = x\n",
    "#\tB *(Km/Vmax) = n   \n",
    "#\tA/Vmax = m\n",
    "\n",
    "#Consideriamo\n",
    "#m1: m per la reazione senza inibitore\n",
    "#n1: n per la reazione senza inibitore\n",
    "#m2: m per la reazione con inibitore\n",
    "#n2: n per la reazione con inibitore\n",
    "\n",
    "#inibitore competitivo: m1=m2 perchè A=1\n",
    "#B = 1 + i/Kei = n2/n1\n",
    "\n",
    "#inibitore acompetitivo: n1=n2 perchè B=1\n",
    "#A= 1+ i/Keis = m2/m1\n"
   ]
  },
  {
   "cell_type": "code",
   "execution_count": 25,
   "metadata": {},
   "outputs": [
    {
     "name": "stdout",
     "output_type": "stream",
     "text": [
      "A = 1.7574967682434162 B = 5.915391681438968\n",
      " Kei =0    0.203443\n",
      "1         NaN\n",
      "2         NaN\n",
      "3         NaN\n",
      "4         NaN\n",
      "5         NaN\n",
      "Name: conc_inib, dtype: float64 gfKeis = 0    1.320138\n",
      "1         NaN\n",
      "2         NaN\n",
      "3         NaN\n",
      "4         NaN\n",
      "5         NaN\n",
      "Name: conc_inib, dtype: float64 gfKi =0.20344258704267748 gf\n"
     ]
    }
   ],
   "source": [
    "A=slope_inib/slope_norm\n",
    "B=intercept_inib/intercept_norm\n",
    "Kei=df['conc_inib']/(B-1)\n",
    "Keis=df['conc_inib']/(A-1)\n",
    "Ki=1/(B-1)\n",
    "print('A = '+str(A)+' B = '+ str(B))\n",
    "print(' Kei =' +str(Kei)+' '+ msus+'Keis = '+str(Keis)+' '+msus+'Ki ='+str(Ki)+' '+msus)"
   ]
  },
  {
   "cell_type": "code",
   "execution_count": null,
   "metadata": {},
   "outputs": [],
   "source": []
  },
  {
   "cell_type": "code",
   "execution_count": null,
   "metadata": {},
   "outputs": [],
   "source": []
  }
 ],
 "metadata": {
  "kernelspec": {
   "display_name": "Python 3",
   "language": "python",
   "name": "python3"
  },
  "language_info": {
   "codemirror_mode": {
    "name": "ipython",
    "version": 3
   },
   "file_extension": ".py",
   "mimetype": "text/x-python",
   "name": "python",
   "nbconvert_exporter": "python",
   "pygments_lexer": "ipython3",
   "version": "3.7.1"
  }
 },
 "nbformat": 4,
 "nbformat_minor": 2
}
