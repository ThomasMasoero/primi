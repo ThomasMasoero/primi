{
 "cells": [
  {
   "cell_type": "code",
   "execution_count": null,
   "metadata": {},
   "outputs": [],
   "source": [
    "import pandas as pd\n",
    "#mettere .xlsx dopo il nome del documento excel\n",
    "df = pd.read_excel (r'C:\\Users\\thomas\\Documents\\università\\valetti\\2E.xlsx') \n",
    "df.columns = ['s', 'v_norm', 'v_inib', 'conc_inib'] \n",
    "\n",
    "msus= input(\"Enter the measure unit of substrate:\")\n",
    "msuv= input(\"Enter the measure unit of velocity :\")\n",
    "msui=input(\"Enter the measure unit of inhibent if present:\")\n",
    "print (df)\n",
    "print('substrate:'+msus)\n",
    "print('velocity:'+msuv)\n",
    "print('inhibent concentration'+msui)\n",
    "  #bisogna fare in modo che le colonne si rinomino da sole in s, v_norm, v_inib, in modo che si adatti allo script\n",
    "    # la griglia deve essere in alto a sinistra nel foglio excel, e avere una sola riga di nomi, e in ordine di colonna: substr, v normale, v inibita"
   ]
  },
  {
   "cell_type": "code",
   "execution_count": null,
   "metadata": {},
   "outputs": [],
   "source": [
    "from bokeh.plotting import figure, show, output_notebook\n",
    "param = dict(width = 700, height = 250,\n",
    "             tools = 'wheel_zoom, reset,pan, box_zoom',\n",
    "             tooltips = [( 'substrate',   '@s'), ( 'velocity',   '@v')],\n",
    "            )\n",
    "output_notebook()"
   ]
  },
  {
   "cell_type": "code",
   "execution_count": null,
   "metadata": {},
   "outputs": [],
   "source": [
    "p = figure(x_axis_label='Concentrazione substrato '+msus,\n",
    "           y_axis_label='Velocità di reazione '+msuv,\n",
    "           **param,\n",
    "           )\n",
    "p.circle( 's', 'v_norm', source=df )\n",
    "p.square('s', 'v_inib', source=df) \n",
    "show( p )\n",
    "print('the square values are the inhibited ones')"
   ]
  },
  {
   "cell_type": "code",
   "execution_count": null,
   "metadata": {},
   "outputs": [],
   "source": [
    "df['1/s'] = 1/df['s']\n",
    "df['1/v_norm'] = 1/df['v_norm']\n",
    "df['1/v_inib']= 1/df['v_inib']\n",
    "df\n"
   ]
  },
  {
   "cell_type": "code",
   "execution_count": null,
   "metadata": {},
   "outputs": [],
   "source": [
    "from scipy.stats import linregress\n",
    "slope_norm, intercept_norm, r_value, p_value, std_err = linregress( df['1/s'], df['1/v_norm'] )\n",
    "slope_norm, intercept_norm   \n",
    "'The slope of the non-inhibited enzyme is {}, and the intercept of the non-inibited enzyme is {}'.format(slope_norm, intercept_norm)"
   ]
  },
  {
   "cell_type": "code",
   "execution_count": null,
   "metadata": {},
   "outputs": [],
   "source": [
    "from scipy.stats import linregress\n",
    "slope_inib, intercept_inib, r_value, p_value, std_err = linregress( df['1/s'], df['1/v_inib'] )\n",
    "'The slope of the inhibited enzyme is {}, and the intercept of the inibited enzyme is {}'.format(slope_inib, intercept_inib)  "
   ]
  },
  {
   "cell_type": "code",
   "execution_count": null,
   "metadata": {},
   "outputs": [],
   "source": [
    "from numpy import array "
   ]
  },
  {
   "cell_type": "code",
   "execution_count": null,
   "metadata": {},
   "outputs": [],
   "source": [
    "#faccio un grafico con le 2 rette per capire il tipo di inibizione\n",
    "p1 = figure(title = 'Linearizzazione di Lineweaver-Burk',\n",
    "            x_axis_label= '1/s  ' + msus, \n",
    "            y_axis_label= '1/v  '+ msuv,\n",
    "            **param,\n",
    "            )\n",
    "p1.circle( '1/s', '1/v_norm', source=df )\n",
    "xmax = df['1/s'].max() \n",
    "x = array( [-3, xmax] )       \n",
    "y = x * slope_norm + intercept_norm \n",
    "p1.line( x, y, color='green')\n",
    "\n",
    "p1.square( '1/s', '1/v_inib', source=df)\n",
    "     \n",
    "y = x * slope_inib + intercept_inib \n",
    "p1.line( x, y, color='red')\n",
    "show( p1 )"
   ]
  },
  {
   "cell_type": "code",
   "execution_count": null,
   "metadata": {
    "scrolled": true
   },
   "outputs": [],
   "source": [
    "#calcolo il punto di incontro delle rette, fondamentale per definire il tipo di inibizione\n",
    "slope_x= slope_norm-slope_inib\n",
    "\n",
    "intercept_x= -intercept_norm+intercept_inib\n",
    "intersec_x=intercept_x/slope_x\n",
    "intersec_x\n",
    "intersec_y= slope_norm*intersec_x+intercept_norm\n",
    "intersec_y\n",
    "\n",
    "p1.triangle( intersec_x, intersec_y, color='black')\n",
    "\n",
    "show( p1 )\n",
    "print(\"The intersection of the 2 lines is at:(\" +str(intersec_x)+ ','+str(intersec_y)+'), the black dot stands for the interception point of the 2 lines.')\n"
   ]
  },
  {
   "cell_type": "code",
   "execution_count": null,
   "metadata": {},
   "outputs": [],
   "source": [
    "#si studia ora l'inibizione con la prima linearizzazione \n",
    "#1/v = 1/s * B *(Km/Vmax) + A/Vmax\n",
    "#equazione di una retta y=mx+n\n",
    "\n",
    " #Dove \t1/v = y\n",
    "#\t1/s = x\n",
    "#\tB *(Km/Vmax) = m   \n",
    "#\tA/Vmax = n\n",
    "\n",
    "#Consideriamo\n",
    "#m1: m per la reazione senza inibitore\n",
    "#n1: n per la reazione senza inibitore\n",
    "#m2: m per la reazione con inibitore\n",
    "#n2: n per la reazione con inibitore\n",
    "\n",
    "#inibitore competitivo: n1=n2 perchè A=1\n",
    "#B = 1 + i/Kei = m2/m1\n",
    "\n",
    "#inibitore acompetitivo: m1=m2 perchè B=1\n",
    "#A= 1+ i/Keis = n2/n1\n",
    "\n",
    "#inibitore non competitivo: m1/n1 =m2/n2 perchè A=B\n",
    "#A=B=1+1/Ki=n2/n1=m2/m1\n",
    "#\t\n",
    "\n"
   ]
  },
  {
   "cell_type": "code",
   "execution_count": null,
   "metadata": {},
   "outputs": [],
   "source": [
    "A=intercept_inib/intercept_norm\n",
    "B=slope_inib/slope_norm\n",
    "Kei= df['conc_inib']/(B-1)\n",
    "Keis=df['conc_inib']/(A-1)\n",
    "Ki=1/(B-1)\n",
    "compet=print(\"The facteor A is: \"+str( A)+', the factor B is: '+str( B)+'.')\n",
    "\n",
    "a_compet=print('The Kei is: '+str(Kei)+' '+msus+' the Keis is: ' +str(Keis)+' '+msus+ 'the Ki is: '+str(Ki)+' '+msus)\n",
    "# tutti i NaN sono dovuti alla mancanza del valore dell inibente, per ora non so come toglierlo"
   ]
  },
  {
   "cell_type": "code",
   "execution_count": null,
   "metadata": {},
   "outputs": [],
   "source": [
    "inib_type = input(\"According to the graph, which kind inibition do you want to study? competitive, non-competitive, a-competitive:\")\n",
    "\n",
    "if inib_type == 'competitive':\n",
    "    print(compet)\n",
    " \n"
   ]
  },
  {
   "cell_type": "code",
   "execution_count": null,
   "metadata": {},
   "outputs": [],
   "source": [
    "compet\n"
   ]
  },
  {
   "cell_type": "code",
   "execution_count": null,
   "metadata": {},
   "outputs": [],
   "source": [
    "#sperimento nuovi grafici\n",
    "\n",
    "#import matplotlib.pyplot as plt\n",
    "#import numpy as np\n",
    "#x = df['1/s']\n",
    "#y = df['1/v_norm']\n",
    "#x1= df['1/s']\n",
    "#y1= df['1/v_inib']\n",
    "#fig, ax = plt.subplots()\n",
    "#ax.plot(x, y)\n",
    "#ax.plot(x1, y1)\n",
    "#ax.set_ylabel('1/v')\n",
    "#ax.set_xlabel('1/s')\n",
    "#ax.set_title('linearisation')\n",
    "#plt.show()"
   ]
  },
  {
   "cell_type": "code",
   "execution_count": null,
   "metadata": {},
   "outputs": [],
   "source": [
    "\n",
    "\n"
   ]
  },
  {
   "cell_type": "code",
   "execution_count": null,
   "metadata": {},
   "outputs": [],
   "source": []
  }
 ],
 "metadata": {
  "kernelspec": {
   "display_name": "Python 3",
   "language": "python",
   "name": "python3"
  },
  "language_info": {
   "codemirror_mode": {
    "name": "ipython",
    "version": 3
   },
   "file_extension": ".py",
   "mimetype": "text/x-python",
   "name": "python",
   "nbconvert_exporter": "python",
   "pygments_lexer": "ipython3",
   "version": "3.7.1"
  }
 },
 "nbformat": 4,
 "nbformat_minor": 2
}
